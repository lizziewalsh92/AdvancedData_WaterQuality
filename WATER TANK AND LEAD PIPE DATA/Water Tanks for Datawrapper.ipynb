{
 "cells": [
  {
   "cell_type": "code",
   "execution_count": 1,
   "id": "c919420a-f70d-4e02-848c-971870f3668b",
   "metadata": {},
   "outputs": [],
   "source": [
    "import pandas as pd"
   ]
  },
  {
   "cell_type": "code",
   "execution_count": 2,
   "id": "bcdb3eed-3bcb-4af0-af56-3524b0dbbb71",
   "metadata": {},
   "outputs": [],
   "source": [
    "df = pd.read_excel(\"WATERTANKMASTER_COPY.xlsx\", sheet_name = \"2020-Present Dirty_renamedcols\")"
   ]
  },
  {
   "cell_type": "code",
   "execution_count": 3,
   "id": "14ecb3cd-8020-4488-86e1-d7c724d836d8",
   "metadata": {},
   "outputs": [],
   "source": [
    "## pull out the lower manhattan tanks that are all smushed together\n",
    "MHdf = df[(df[\"ZIP\"] == 10013) | (df[\"ZIP\"] == 10002) | (df[\"ZIP\"] == 10280) | (df[\"ZIP\"] == 10004) | (df[\"ZIP\"] == 10041) | (df[\"ZIP\"] == 10006)| (df[\"ZIP\"] == 10005)| (df[\"ZIP\"] == 10048) | (df[\"ZIP\"] == 10200)| (df[\"ZIP\"] == 10201)| (df[\"ZIP\"] == 10202)]"
   ]
  },
  {
   "cell_type": "code",
   "execution_count": 4,
   "id": "b7f859a6-1b40-4709-8395-1564c5b53440",
   "metadata": {},
   "outputs": [],
   "source": [
    "MHdf.to_csv(\"Manhattan_WaterTanks.csv\")"
   ]
  },
  {
   "cell_type": "code",
   "execution_count": 5,
   "id": "bbafba05-4fcf-4822-9acd-cd2403231303",
   "metadata": {},
   "outputs": [],
   "source": [
    "## summarize each row that contains the same address\n",
    "centreSt = df[(df[\"ADDRESS\"] == \"100 Centre street\")|(df[\"ADDRESS\"] == \"100 centre street\") | (df[\"ADDRESS\"] == \"100 Centre Street\")]"
   ]
  },
  {
   "cell_type": "code",
   "execution_count": 6,
   "id": "fb7071ce-b7f0-47ff-b165-c548aaa13bce",
   "metadata": {},
   "outputs": [],
   "source": [
    "eightycentreSt = df[(df[\"ADDRESS\"] == \"80 Centre street\")|(df[\"ADDRESS\"] == \"80 centre street\")|(df[\"ADDRESS\"] == \"80 Centre Street\")]"
   ]
  },
  {
   "cell_type": "code",
   "execution_count": 7,
   "id": "d035011c-6e9e-45c6-8084-54d7904fddfb",
   "metadata": {},
   "outputs": [],
   "source": [
    "worth = df[(df[\"ADDRESS\"] == \"125 worth street\")]"
   ]
  },
  {
   "cell_type": "code",
   "execution_count": 8,
   "id": "60ca66dd-dc19-4c47-9f43-0ef486c44c1d",
   "metadata": {},
   "outputs": [],
   "source": [
    "madison = df[(df[\"ADDRESS\"] == \"160 Madison Street\")]"
   ]
  },
  {
   "cell_type": "code",
   "execution_count": 9,
   "id": "d9af96f7-37f9-49b8-810c-6f54032bbd6f",
   "metadata": {},
   "outputs": [],
   "source": [
    "DowntownTanks = pd.concat([centreSt, eightycentreSt, worth, madison], ignore_index = True)"
   ]
  },
  {
   "cell_type": "code",
   "execution_count": 10,
   "id": "d4960a1b-a582-4129-946d-a7439749a708",
   "metadata": {},
   "outputs": [
    {
     "data": {
      "text/plain": [
       "42"
      ]
     },
     "execution_count": 10,
     "metadata": {},
     "output_type": "execute_result"
    }
   ],
   "source": [
    "centreSt[\"# OF VIOLATIONS\"].sum()"
   ]
  },
  {
   "cell_type": "code",
   "execution_count": 11,
   "id": "7dc509a1-17cd-482f-b367-838b919fa592",
   "metadata": {},
   "outputs": [
    {
     "data": {
      "text/plain": [
       "34"
      ]
     },
     "execution_count": 11,
     "metadata": {},
     "output_type": "execute_result"
    }
   ],
   "source": [
    "centreSt[\"# of Tanks\"].sum()"
   ]
  },
  {
   "cell_type": "code",
   "execution_count": 12,
   "id": "482206c0-343b-4a4c-ae38-30ce3de6cdcd",
   "metadata": {},
   "outputs": [
    {
     "data": {
      "text/plain": [
       "16"
      ]
     },
     "execution_count": 12,
     "metadata": {},
     "output_type": "execute_result"
    }
   ],
   "source": [
    "eightycentreSt[\"# OF VIOLATIONS\"].sum()"
   ]
  },
  {
   "cell_type": "code",
   "execution_count": 13,
   "id": "e4362f8c-eb3c-4852-bd34-efd62435b8fe",
   "metadata": {},
   "outputs": [],
   "source": [
    "##ok I realized I have to do that for every line of data so datawrapper tooltip can show if it ever received violations between 2020 and now\n",
    "df['ADDRESS_NORM'] = df['ADDRESS'].str.lower().str.strip()"
   ]
  },
  {
   "cell_type": "code",
   "execution_count": 14,
   "id": "d698a637-7229-4d75-9b46-cacd1bd0dcd3",
   "metadata": {},
   "outputs": [],
   "source": [
    "inspection_cols = ['SEDIMENT', 'BIOLOGICAL_GROWTH', 'DEBRIS_INSECTS', \n",
    "                   'RODENT_BIRD', 'COLIFORM', 'ECOLI']"
   ]
  },
  {
   "cell_type": "code",
   "execution_count": 15,
   "id": "7fa98b01-13ad-4e37-aba0-089d3de6d3fd",
   "metadata": {},
   "outputs": [],
   "source": [
    "## create a function to summarize the violations for each address\n",
    "def summarize_violations(group):\n",
    "    summary = {}\n",
    "    for col in inspection_cols:\n",
    "        summary[f'SUM_{col}'] = 'Violation' if (group[col] == 'Violation').any() else 'Meets standards'\n",
    "    return pd.Series(summary)"
   ]
  },
  {
   "cell_type": "code",
   "execution_count": 16,
   "id": "c8c49541-de0e-4b82-91ed-5e9108355650",
   "metadata": {},
   "outputs": [
    {
     "name": "stderr",
     "output_type": "stream",
     "text": [
      "/var/folders/rc/n80vvwzn0cgc5d6p28yqkgtm0000gn/T/ipykernel_24027/1190434298.py:2: DeprecationWarning: DataFrameGroupBy.apply operated on the grouping columns. This behavior is deprecated, and in a future version of pandas the grouping columns will be excluded from the operation. Either pass `include_groups=False` to exclude the groupings or explicitly select the grouping columns after groupby to silence this warning.\n",
      "  violation_summary = df.groupby('ADDRESS_NORM').apply(summarize_violations)\n"
     ]
    }
   ],
   "source": [
    "## apply it to my normalized address df\n",
    "violation_summary = df.groupby('ADDRESS_NORM').apply(summarize_violations)"
   ]
  },
  {
   "cell_type": "code",
   "execution_count": 17,
   "id": "7f28786c-0176-40c3-bc67-12cf8e122c58",
   "metadata": {},
   "outputs": [],
   "source": [
    "## make a df that removes duplicates\n",
    "non_agg = df.drop_duplicates('ADDRESS_NORM')[['ADDRESS_NORM', 'ADDRESS', 'LATITUDE', 'LONGITUDE', 'ZIP', '# of Tanks', 'CENSUS_TRACT', '# OF VIOLATIONS']]"
   ]
  },
  {
   "cell_type": "code",
   "execution_count": 18,
   "id": "d31e6299-a65d-4801-a52b-9fe822e51bfc",
   "metadata": {},
   "outputs": [],
   "source": [
    "## merge the two dfs \n",
    "summary_df_1 = violation_summary.reset_index().merge(non_agg, on='ADDRESS_NORM', how='left')"
   ]
  },
  {
   "cell_type": "code",
   "execution_count": 19,
   "id": "3a23c10e-59df-4c32-854b-4b1ca6157a33",
   "metadata": {},
   "outputs": [
    {
     "data": {
      "text/html": [
       "<div>\n",
       "<style scoped>\n",
       "    .dataframe tbody tr th:only-of-type {\n",
       "        vertical-align: middle;\n",
       "    }\n",
       "\n",
       "    .dataframe tbody tr th {\n",
       "        vertical-align: top;\n",
       "    }\n",
       "\n",
       "    .dataframe thead th {\n",
       "        text-align: right;\n",
       "    }\n",
       "</style>\n",
       "<table border=\"1\" class=\"dataframe\">\n",
       "  <thead>\n",
       "    <tr style=\"text-align: right;\">\n",
       "      <th></th>\n",
       "      <th>ADDRESS_NORM</th>\n",
       "      <th>SUM_SEDIMENT</th>\n",
       "      <th>SUM_BIOLOGICAL_GROWTH</th>\n",
       "      <th>SUM_DEBRIS_INSECTS</th>\n",
       "      <th>SUM_RODENT_BIRD</th>\n",
       "      <th>SUM_COLIFORM</th>\n",
       "      <th>SUM_ECOLI</th>\n",
       "      <th>ADDRESS</th>\n",
       "      <th>LATITUDE</th>\n",
       "      <th>LONGITUDE</th>\n",
       "      <th>ZIP</th>\n",
       "      <th># of Tanks</th>\n",
       "      <th>CENSUS_TRACT</th>\n",
       "      <th># OF VIOLATIONS</th>\n",
       "    </tr>\n",
       "  </thead>\n",
       "  <tbody>\n",
       "    <tr>\n",
       "      <th>6</th>\n",
       "      <td>111 john st</td>\n",
       "      <td>Meets standards</td>\n",
       "      <td>Meets standards</td>\n",
       "      <td>Meets standards</td>\n",
       "      <td>Meets standards</td>\n",
       "      <td>Meets standards</td>\n",
       "      <td>Meets standards</td>\n",
       "      <td>111 John St</td>\n",
       "      <td>40.707671</td>\n",
       "      <td>-74.005764</td>\n",
       "      <td>10038</td>\n",
       "      <td>2</td>\n",
       "      <td>1502</td>\n",
       "      <td>1</td>\n",
       "    </tr>\n",
       "    <tr>\n",
       "      <th>58</th>\n",
       "      <td>60 centre street</td>\n",
       "      <td>Violation</td>\n",
       "      <td>Meets standards</td>\n",
       "      <td>Violation</td>\n",
       "      <td>Meets standards</td>\n",
       "      <td>Meets standards</td>\n",
       "      <td>Meets standards</td>\n",
       "      <td>60 centre street</td>\n",
       "      <td>40.714467</td>\n",
       "      <td>-74.002503</td>\n",
       "      <td>10007</td>\n",
       "      <td>2</td>\n",
       "      <td>29</td>\n",
       "      <td>3</td>\n",
       "    </tr>\n",
       "  </tbody>\n",
       "</table>\n",
       "</div>"
      ],
      "text/plain": [
       "        ADDRESS_NORM     SUM_SEDIMENT SUM_BIOLOGICAL_GROWTH  \\\n",
       "6        111 john st  Meets standards       Meets standards   \n",
       "58  60 centre street        Violation       Meets standards   \n",
       "\n",
       "   SUM_DEBRIS_INSECTS  SUM_RODENT_BIRD     SUM_COLIFORM        SUM_ECOLI  \\\n",
       "6     Meets standards  Meets standards  Meets standards  Meets standards   \n",
       "58          Violation  Meets standards  Meets standards  Meets standards   \n",
       "\n",
       "             ADDRESS   LATITUDE  LONGITUDE    ZIP  # of Tanks  CENSUS_TRACT  \\\n",
       "6        111 John St  40.707671 -74.005764  10038           2          1502   \n",
       "58  60 centre street  40.714467 -74.002503  10007           2            29   \n",
       "\n",
       "    # OF VIOLATIONS  \n",
       "6                 1  \n",
       "58                3  "
      ]
     },
     "execution_count": 19,
     "metadata": {},
     "output_type": "execute_result"
    }
   ],
   "source": [
    "summary_df_1.sample(2)"
   ]
  },
  {
   "cell_type": "code",
   "execution_count": 58,
   "id": "f510183f-a221-453e-a2ea-5275752b6de5",
   "metadata": {},
   "outputs": [],
   "source": [
    "## run the same analysis on ALL tanks to find how many tanks of the 17,000 were inspected in the last 5 years.\n",
    "summary_df_1.to_csv(\"DIRTY_TANKS_SUMMARIZED_ALL_INSPECTIONS_WITHCOLS.csv\")"
   ]
  },
  {
   "cell_type": "code",
   "execution_count": 80,
   "id": "66b33bf4-f8d9-482c-8a6a-6e2d0e218a68",
   "metadata": {},
   "outputs": [],
   "source": [
    "df_ALL_1 = pd.read_excel(\"WATERTANKMASTER_COPY.xlsx\", sheet_name = \"2020-Present\")"
   ]
  },
  {
   "cell_type": "code",
   "execution_count": 81,
   "id": "8025d32a-959d-42f5-8c1f-4a22923bb2b2",
   "metadata": {},
   "outputs": [],
   "source": [
    "df_ALL_SUMMARY = df_ALL_1.drop_duplicates(subset=\"ADDRESS\")"
   ]
  },
  {
   "cell_type": "code",
   "execution_count": 86,
   "id": "466f3491-931f-4adc-a111-e1adfdf57995",
   "metadata": {},
   "outputs": [
    {
     "name": "stdout",
     "output_type": "stream",
     "text": [
      "<class 'pandas.core.frame.DataFrame'>\n",
      "Index: 8559 entries, 0 to 30500\n",
      "Data columns (total 19 columns):\n",
      " #   Column              Non-Null Count  Dtype  \n",
      "---  ------              --------------  -----  \n",
      " 0   BOROUGH             8559 non-null   object \n",
      " 1   ADDRESS             8559 non-null   object \n",
      " 2   ZIP                 8555 non-null   float64\n",
      " 3   TANK_NUM            8559 non-null   object \n",
      " 4   INSPECTION_DATE     8559 non-null   object \n",
      " 5   INTERNAL_STRUCTURE  8543 non-null   object \n",
      " 6   EXTERNAL_STRUCTURE  8557 non-null   object \n",
      " 7   SEDIMENT            8541 non-null   object \n",
      " 8   BIOLOGICAL_GROWTH   8541 non-null   object \n",
      " 9   DEBRIS_INSECTS      8541 non-null   object \n",
      " 10  RODENT_BIRD         8557 non-null   object \n",
      " 11  COLIFORM            8550 non-null   object \n",
      " 12  ECOLI               8543 non-null   object \n",
      " 13  MEET_STANDARDS      1761 non-null   object \n",
      " 14  LATITUDE            8541 non-null   float64\n",
      " 15  LONGITUDE           8541 non-null   float64\n",
      " 16  COMMUNITY_BOARD     8541 non-null   float64\n",
      " 17  COUNCIL_DISTRICT    8541 non-null   float64\n",
      " 18  CENSUS_TRACT        8541 non-null   float64\n",
      "dtypes: float64(6), object(13)\n",
      "memory usage: 1.3+ MB\n"
     ]
    }
   ],
   "source": [
    "df_ALL_SUMMARY.info()"
   ]
  },
  {
   "cell_type": "code",
   "execution_count": 88,
   "id": "df978b5f-2b4f-4391-b8cb-3bc892528944",
   "metadata": {},
   "outputs": [
    {
     "data": {
      "text/html": [
       "<div>\n",
       "<style scoped>\n",
       "    .dataframe tbody tr th:only-of-type {\n",
       "        vertical-align: middle;\n",
       "    }\n",
       "\n",
       "    .dataframe tbody tr th {\n",
       "        vertical-align: top;\n",
       "    }\n",
       "\n",
       "    .dataframe thead th {\n",
       "        text-align: right;\n",
       "    }\n",
       "</style>\n",
       "<table border=\"1\" class=\"dataframe\">\n",
       "  <thead>\n",
       "    <tr style=\"text-align: right;\">\n",
       "      <th></th>\n",
       "      <th>BOROUGH</th>\n",
       "      <th>ADDRESS</th>\n",
       "      <th>ZIP</th>\n",
       "      <th>TANK_NUM</th>\n",
       "      <th>INSPECTION_DATE</th>\n",
       "      <th>INTERNAL_STRUCTURE</th>\n",
       "      <th>EXTERNAL_STRUCTURE</th>\n",
       "      <th>SEDIMENT</th>\n",
       "      <th>BIOLOGICAL_GROWTH</th>\n",
       "      <th>DEBRIS_INSECTS</th>\n",
       "      <th>RODENT_BIRD</th>\n",
       "      <th>COLIFORM</th>\n",
       "      <th>ECOLI</th>\n",
       "      <th>MEET_STANDARDS</th>\n",
       "      <th>LATITUDE</th>\n",
       "      <th>LONGITUDE</th>\n",
       "      <th>COMMUNITY_BOARD</th>\n",
       "      <th>COUNCIL_DISTRICT</th>\n",
       "      <th>CENSUS_TRACT</th>\n",
       "    </tr>\n",
       "  </thead>\n",
       "  <tbody>\n",
       "    <tr>\n",
       "      <th>11285</th>\n",
       "      <td>MANHATTAN</td>\n",
       "      <td>470 WEST END AVENUE</td>\n",
       "      <td>10024.0</td>\n",
       "      <td>1</td>\n",
       "      <td>2020-07-01 00:00:00</td>\n",
       "      <td>N</td>\n",
       "      <td>N</td>\n",
       "      <td>N</td>\n",
       "      <td>N</td>\n",
       "      <td>N</td>\n",
       "      <td>N</td>\n",
       "      <td>N</td>\n",
       "      <td>N</td>\n",
       "      <td>Y</td>\n",
       "      <td>40.786770</td>\n",
       "      <td>-73.979398</td>\n",
       "      <td>7.0</td>\n",
       "      <td>6.0</td>\n",
       "      <td>171.0</td>\n",
       "    </tr>\n",
       "    <tr>\n",
       "      <th>7659</th>\n",
       "      <td>MANHATTAN</td>\n",
       "      <td>80 Central Park West</td>\n",
       "      <td>10023.0</td>\n",
       "      <td>1</td>\n",
       "      <td>2020-09-02 00:00:00</td>\n",
       "      <td>N</td>\n",
       "      <td>N</td>\n",
       "      <td>N</td>\n",
       "      <td>N</td>\n",
       "      <td>N</td>\n",
       "      <td>N</td>\n",
       "      <td>N</td>\n",
       "      <td>N</td>\n",
       "      <td>NaN</td>\n",
       "      <td>40.773754</td>\n",
       "      <td>-73.977767</td>\n",
       "      <td>7.0</td>\n",
       "      <td>6.0</td>\n",
       "      <td>153.0</td>\n",
       "    </tr>\n",
       "    <tr>\n",
       "      <th>10117</th>\n",
       "      <td>MANHATTAN</td>\n",
       "      <td>17 East 124 Street</td>\n",
       "      <td>10035.0</td>\n",
       "      <td>1</td>\n",
       "      <td>2023-06-28 00:00:00</td>\n",
       "      <td>N</td>\n",
       "      <td>N</td>\n",
       "      <td>N</td>\n",
       "      <td>N</td>\n",
       "      <td>N</td>\n",
       "      <td>N</td>\n",
       "      <td>N</td>\n",
       "      <td>N</td>\n",
       "      <td>NaN</td>\n",
       "      <td>40.805364</td>\n",
       "      <td>-73.941844</td>\n",
       "      <td>11.0</td>\n",
       "      <td>9.0</td>\n",
       "      <td>198.0</td>\n",
       "    </tr>\n",
       "  </tbody>\n",
       "</table>\n",
       "</div>"
      ],
      "text/plain": [
       "         BOROUGH               ADDRESS      ZIP TANK_NUM      INSPECTION_DATE  \\\n",
       "11285  MANHATTAN   470 WEST END AVENUE  10024.0        1  2020-07-01 00:00:00   \n",
       "7659   MANHATTAN  80 Central Park West  10023.0        1  2020-09-02 00:00:00   \n",
       "10117  MANHATTAN    17 East 124 Street  10035.0        1  2023-06-28 00:00:00   \n",
       "\n",
       "      INTERNAL_STRUCTURE EXTERNAL_STRUCTURE SEDIMENT BIOLOGICAL_GROWTH  \\\n",
       "11285                  N                  N        N                 N   \n",
       "7659                   N                  N        N                 N   \n",
       "10117                  N                  N        N                 N   \n",
       "\n",
       "      DEBRIS_INSECTS RODENT_BIRD COLIFORM ECOLI MEET_STANDARDS   LATITUDE  \\\n",
       "11285              N           N        N     N              Y  40.786770   \n",
       "7659               N           N        N     N            NaN  40.773754   \n",
       "10117              N           N        N     N            NaN  40.805364   \n",
       "\n",
       "       LONGITUDE  COMMUNITY_BOARD  COUNCIL_DISTRICT  CENSUS_TRACT  \n",
       "11285 -73.979398              7.0               6.0         171.0  \n",
       "7659  -73.977767              7.0               6.0         153.0  \n",
       "10117 -73.941844             11.0               9.0         198.0  "
      ]
     },
     "execution_count": 88,
     "metadata": {},
     "output_type": "execute_result"
    }
   ],
   "source": [
    "df_ALL_SUMMARY.sample(3)"
   ]
  },
  {
   "cell_type": "code",
   "execution_count": 90,
   "id": "5807d4a1-5978-46f4-aff1-429e8ac7560c",
   "metadata": {},
   "outputs": [],
   "source": [
    "df_ALL_SUMMARY.to_csv(\"2020-present_summarizedbyaddress.csv\")"
   ]
  },
  {
   "cell_type": "code",
   "execution_count": null,
   "id": "c13820bb-1c0a-423d-b491-ed37fcfd5d80",
   "metadata": {},
   "outputs": [],
   "source": []
  }
 ],
 "metadata": {
  "kernelspec": {
   "display_name": "Python [conda env:base] *",
   "language": "python",
   "name": "conda-base-py"
  },
  "language_info": {
   "codemirror_mode": {
    "name": "ipython",
    "version": 3
   },
   "file_extension": ".py",
   "mimetype": "text/x-python",
   "name": "python",
   "nbconvert_exporter": "python",
   "pygments_lexer": "ipython3",
   "version": "3.12.7"
  }
 },
 "nbformat": 4,
 "nbformat_minor": 5
}
