{
 "cells": [
  {
   "cell_type": "code",
   "execution_count": 2,
   "id": "5b48ae09-41ab-4ba3-a95d-d2ba7f047aa4",
   "metadata": {},
   "outputs": [],
   "source": [
    "import pandas as pd"
   ]
  },
  {
   "cell_type": "code",
   "execution_count": 3,
   "id": "3e7ba097-882c-4661-b8a7-9094b8215762",
   "metadata": {},
   "outputs": [],
   "source": [
    "df = pd.read_excel(\"DATAWRAPPER_COMBINED.xlsx\")"
   ]
  },
  {
   "cell_type": "code",
   "execution_count": 4,
   "id": "d852f2e5-0db7-41b7-9b36-2393b9efd2a3",
   "metadata": {},
   "outputs": [],
   "source": [
    "df1 = pd.read_excel(\"DATAWRAPPER_COMBINED.xlsx\", sheet_name=\"14-23\")"
   ]
  },
  {
   "cell_type": "code",
   "execution_count": 5,
   "id": "0ee0c2c6-9a28-422f-a3c0-f1a925309722",
   "metadata": {},
   "outputs": [],
   "source": [
    "df2 = pd.read_excel(\"DATAWRAPPER_COMBINED.xlsx\", sheet_name=\"21-22\")"
   ]
  },
  {
   "cell_type": "code",
   "execution_count": 15,
   "id": "75faeb7a-edfa-49fa-a01f-90befcb47077",
   "metadata": {},
   "outputs": [],
   "source": [
    "## combine  2014-2023 data and 2021-2022 data\n",
    "combined_df = pd.concat([df1, df2], ignore_index=True)"
   ]
  },
  {
   "cell_type": "code",
   "execution_count": 17,
   "id": "61c34afe-8d49-4ef8-9c6b-fc746f5c6153",
   "metadata": {},
   "outputs": [
    {
     "name": "stdout",
     "output_type": "stream",
     "text": [
      "<class 'pandas.core.frame.DataFrame'>\n",
      "RangeIndex: 39148 entries, 0 to 39147\n",
      "Data columns (total 9 columns):\n",
      " #   Column                                 Non-Null Count  Dtype         \n",
      "---  ------                                 --------------  -----         \n",
      " 0   Kit ID                                 39148 non-null  int64         \n",
      " 1   Borough                                39148 non-null  object        \n",
      " 2   Zipcode                                39148 non-null  int64         \n",
      " 3   Date Received                          39148 non-null  datetime64[ns]\n",
      " 4   Date Collected                         39148 non-null  datetime64[ns]\n",
      " 5   # of samples in zip                    39148 non-null  int64         \n",
      " 6   # of samples over limit in zip         39148 non-null  int64         \n",
      " 7   AVG lead levels in over-limit samples  39148 non-null  object        \n",
      " 8   AVG % of limit in overlimit samples    39148 non-null  object        \n",
      "dtypes: datetime64[ns](2), int64(4), object(3)\n",
      "memory usage: 2.7+ MB\n"
     ]
    }
   ],
   "source": [
    "combined_df.info()"
   ]
  },
  {
   "cell_type": "code",
   "execution_count": 21,
   "id": "5eb8c6e3-4cda-40e5-b55e-4e2fbf5205a1",
   "metadata": {},
   "outputs": [],
   "source": [
    "## drop duplicate ID numbers if they occur across both columns, and keep the last recorded sample as that would be most accurate\n",
    "df_clean_combo = combined_df.drop_duplicates(subset=combined_df.columns[0], keep='last')"
   ]
  },
  {
   "cell_type": "code",
   "execution_count": 23,
   "id": "aa793c10-dec8-49d8-964b-38e48771897d",
   "metadata": {},
   "outputs": [],
   "source": [
    "df_clean_combo.to_excel('Combined_LeadSamples_DATAWRAPPER.xlsx', index=False)"
   ]
  },
  {
   "cell_type": "code",
   "execution_count": 25,
   "id": "b5450c63-59d4-48f3-a5e9-320cd9ab9926",
   "metadata": {},
   "outputs": [
    {
     "data": {
      "text/html": [
       "<div>\n",
       "<style scoped>\n",
       "    .dataframe tbody tr th:only-of-type {\n",
       "        vertical-align: middle;\n",
       "    }\n",
       "\n",
       "    .dataframe tbody tr th {\n",
       "        vertical-align: top;\n",
       "    }\n",
       "\n",
       "    .dataframe thead th {\n",
       "        text-align: right;\n",
       "    }\n",
       "</style>\n",
       "<table border=\"1\" class=\"dataframe\">\n",
       "  <thead>\n",
       "    <tr style=\"text-align: right;\">\n",
       "      <th></th>\n",
       "      <th>Kit ID</th>\n",
       "      <th>Zipcode</th>\n",
       "      <th>Date Received</th>\n",
       "      <th>Date Collected</th>\n",
       "      <th># of samples in zip</th>\n",
       "      <th># of samples over limit in zip</th>\n",
       "    </tr>\n",
       "  </thead>\n",
       "  <tbody>\n",
       "    <tr>\n",
       "      <th>count</th>\n",
       "      <td>3.914300e+04</td>\n",
       "      <td>39143.000000</td>\n",
       "      <td>39143</td>\n",
       "      <td>39143</td>\n",
       "      <td>39143.000000</td>\n",
       "      <td>39143.000000</td>\n",
       "    </tr>\n",
       "    <tr>\n",
       "      <th>mean</th>\n",
       "      <td>3.854742e+07</td>\n",
       "      <td>10820.848657</td>\n",
       "      <td>2019-08-20 09:36:17.216871680</td>\n",
       "      <td>2019-08-15 08:35:21.942620672</td>\n",
       "      <td>367.582914</td>\n",
       "      <td>10.037785</td>\n",
       "    </tr>\n",
       "    <tr>\n",
       "      <th>min</th>\n",
       "      <td>1.513650e+05</td>\n",
       "      <td>10000.000000</td>\n",
       "      <td>2014-01-07 00:00:00</td>\n",
       "      <td>2014-01-01 00:00:00</td>\n",
       "      <td>1.000000</td>\n",
       "      <td>0.000000</td>\n",
       "    </tr>\n",
       "    <tr>\n",
       "      <th>25%</th>\n",
       "      <td>1.723800e+07</td>\n",
       "      <td>10065.000000</td>\n",
       "      <td>2017-04-27 00:00:00</td>\n",
       "      <td>2017-04-22 00:00:00</td>\n",
       "      <td>144.000000</td>\n",
       "      <td>3.000000</td>\n",
       "    </tr>\n",
       "    <tr>\n",
       "      <th>50%</th>\n",
       "      <td>1.926130e+07</td>\n",
       "      <td>11209.000000</td>\n",
       "      <td>2019-08-06 00:00:00</td>\n",
       "      <td>2019-08-02 00:00:00</td>\n",
       "      <td>284.000000</td>\n",
       "      <td>7.000000</td>\n",
       "    </tr>\n",
       "    <tr>\n",
       "      <th>75%</th>\n",
       "      <td>2.128505e+07</td>\n",
       "      <td>11232.000000</td>\n",
       "      <td>2022-01-06 00:00:00</td>\n",
       "      <td>2022-01-01 00:00:00</td>\n",
       "      <td>553.000000</td>\n",
       "      <td>13.000000</td>\n",
       "    </tr>\n",
       "    <tr>\n",
       "      <th>max</th>\n",
       "      <td>2.331106e+08</td>\n",
       "      <td>12345.000000</td>\n",
       "      <td>2024-01-02 00:00:00</td>\n",
       "      <td>2023-12-30 00:00:00</td>\n",
       "      <td>1448.000000</td>\n",
       "      <td>42.000000</td>\n",
       "    </tr>\n",
       "    <tr>\n",
       "      <th>std</th>\n",
       "      <td>6.189989e+07</td>\n",
       "      <td>565.890241</td>\n",
       "      <td>NaN</td>\n",
       "      <td>NaN</td>\n",
       "      <td>307.854533</td>\n",
       "      <td>9.613226</td>\n",
       "    </tr>\n",
       "  </tbody>\n",
       "</table>\n",
       "</div>"
      ],
      "text/plain": [
       "             Kit ID       Zipcode                  Date Received  \\\n",
       "count  3.914300e+04  39143.000000                          39143   \n",
       "mean   3.854742e+07  10820.848657  2019-08-20 09:36:17.216871680   \n",
       "min    1.513650e+05  10000.000000            2014-01-07 00:00:00   \n",
       "25%    1.723800e+07  10065.000000            2017-04-27 00:00:00   \n",
       "50%    1.926130e+07  11209.000000            2019-08-06 00:00:00   \n",
       "75%    2.128505e+07  11232.000000            2022-01-06 00:00:00   \n",
       "max    2.331106e+08  12345.000000            2024-01-02 00:00:00   \n",
       "std    6.189989e+07    565.890241                            NaN   \n",
       "\n",
       "                      Date Collected  # of samples in zip  \\\n",
       "count                          39143         39143.000000   \n",
       "mean   2019-08-15 08:35:21.942620672           367.582914   \n",
       "min              2014-01-01 00:00:00             1.000000   \n",
       "25%              2017-04-22 00:00:00           144.000000   \n",
       "50%              2019-08-02 00:00:00           284.000000   \n",
       "75%              2022-01-01 00:00:00           553.000000   \n",
       "max              2023-12-30 00:00:00          1448.000000   \n",
       "std                              NaN           307.854533   \n",
       "\n",
       "       # of samples over limit in zip  \n",
       "count                    39143.000000  \n",
       "mean                        10.037785  \n",
       "min                          0.000000  \n",
       "25%                          3.000000  \n",
       "50%                          7.000000  \n",
       "75%                         13.000000  \n",
       "max                         42.000000  \n",
       "std                          9.613226  "
      ]
     },
     "execution_count": 25,
     "metadata": {},
     "output_type": "execute_result"
    }
   ],
   "source": [
    "df_clean_combo.describe()"
   ]
  },
  {
   "cell_type": "code",
   "execution_count": 27,
   "id": "af064a8f-e4e1-4267-9994-0e857383726a",
   "metadata": {},
   "outputs": [
    {
     "data": {
      "text/plain": [
       "count                     39143\n",
       "unique                      125\n",
       "top       No samples over limit\n",
       "freq                       2708\n",
       "Name: AVG lead levels in over-limit samples, dtype: object"
      ]
     },
     "execution_count": 27,
     "metadata": {},
     "output_type": "execute_result"
    }
   ],
   "source": [
    "df_clean_combo[\"AVG lead levels in over-limit samples\"].describe()"
   ]
  },
  {
   "cell_type": "code",
   "execution_count": 33,
   "id": "3ad76e40-dcf4-47fa-a944-c5026998eec9",
   "metadata": {},
   "outputs": [],
   "source": [
    "## from excel function calculations (LEAD PIPE MASTER, first two sheets):\n",
    "\n",
    "## 2021-2022: \n",
    "##AVG LEAD LEVEL IN OVERLIMIT Samples: 188.5948798,\tAVG Samples over limit: 10.44522085,\tAVG # OF SAMPLES: 395.7643801,\n",
    "##TOTAL AVG % OF SAMPLES OVER LIMIT:0.026392524\n",
    "\n",
    "## 2014-2023:\n",
    "## AVG LEAD LEVEL IN OVERLIMIT Samples: 76.4350827 AVG Samples over limit: 6.390565559\tAVG # OF SAMPLES:115.568095\t\n",
    "##TOTAL AVG % OF SAMPLES OVER LIMIT: 0.05529697\n",
    "\t"
   ]
  },
  {
   "cell_type": "code",
   "execution_count": 37,
   "id": "f38ccc4a-fea0-40d5-b189-046d8edd80a3",
   "metadata": {},
   "outputs": [
    {
     "data": {
      "text/plain": [
       "0.0405"
      ]
     },
     "execution_count": 37,
     "metadata": {},
     "output_type": "execute_result"
    }
   ],
   "source": [
    "## FIND THE AVERAGE % of samples over limit in combined df\n",
    "def average(a, b):\n",
    "    return (a + b) / 2  # Calculate the average of two numbers\n",
    "\n",
    "# Now call the function\n",
    "average(.055, .026)"
   ]
  },
  {
   "cell_type": "code",
   "execution_count": null,
   "id": "5d28cb52-64e3-4c73-a867-7c3c95e5b2c9",
   "metadata": {},
   "outputs": [],
   "source": [
    "## average % of samples over limit from 2014-23 is 4%"
   ]
  },
  {
   "cell_type": "code",
   "execution_count": 53,
   "id": "0927cb17-af01-4edd-87cf-affda20efd4a",
   "metadata": {},
   "outputs": [
    {
     "data": {
      "text/plain": [
       "132.51498125"
      ]
     },
     "execution_count": 53,
     "metadata": {},
     "output_type": "execute_result"
    }
   ],
   "source": [
    "## the average lead level in overlimit samples is 132 ug/L\n",
    "average(188.5948798, 76.4350827)"
   ]
  },
  {
   "cell_type": "code",
   "execution_count": 39,
   "id": "17c5709b-2695-41a2-b2ef-391010b56398",
   "metadata": {},
   "outputs": [],
   "source": [
    "COMBINED_JUSTZIP = pd.read_excel(\"LEAD PIPE MASTER.xlsx\", sheet_name=\"COMBINED\")"
   ]
  },
  {
   "cell_type": "code",
   "execution_count": 41,
   "id": "6e256a27-3215-4ae5-b070-5f16099f8be3",
   "metadata": {},
   "outputs": [],
   "source": [
    "\n",
    "COMBINED_JUSTZIP_NODUPE = COMBINED_JUSTZIP.drop_duplicates(subset=COMBINED_JUSTZIP.columns[2], keep='last')"
   ]
  },
  {
   "cell_type": "code",
   "execution_count": 43,
   "id": "8b5a2364-1400-4d0a-93a0-8d86ac896bc3",
   "metadata": {},
   "outputs": [
    {
     "name": "stdout",
     "output_type": "stream",
     "text": [
      "<class 'pandas.core.frame.DataFrame'>\n",
      "Index: 191 entries, 13483 to 39142\n",
      "Data columns (total 9 columns):\n",
      " #   Column                                        Non-Null Count  Dtype         \n",
      "---  ------                                        --------------  -----         \n",
      " 0   Kit ID                                        191 non-null    int64         \n",
      " 1   Borough                                       191 non-null    object        \n",
      " 2   Zipcode                                       191 non-null    int64         \n",
      " 3   Date Received                                 191 non-null    datetime64[ns]\n",
      " 4   % of samples over limit                       191 non-null    float64       \n",
      " 5   Total samples in zip                          191 non-null    int64         \n",
      " 6   # of samples over limit in zip                191 non-null    int64         \n",
      " 7   AVG lead levels in over-limit samples (ug/L)  191 non-null    object        \n",
      " 8   AVG % of limit in overlimit samples           191 non-null    object        \n",
      "dtypes: datetime64[ns](1), float64(1), int64(4), object(3)\n",
      "memory usage: 14.9+ KB\n"
     ]
    }
   ],
   "source": [
    "COMBINED_JUSTZIP_NODUPE.info()"
   ]
  },
  {
   "cell_type": "code",
   "execution_count": 45,
   "id": "bd5ad27c-427c-4bd0-b616-48e83feb3032",
   "metadata": {},
   "outputs": [
    {
     "data": {
      "text/html": [
       "<div>\n",
       "<style scoped>\n",
       "    .dataframe tbody tr th:only-of-type {\n",
       "        vertical-align: middle;\n",
       "    }\n",
       "\n",
       "    .dataframe tbody tr th {\n",
       "        vertical-align: top;\n",
       "    }\n",
       "\n",
       "    .dataframe thead th {\n",
       "        text-align: right;\n",
       "    }\n",
       "</style>\n",
       "<table border=\"1\" class=\"dataframe\">\n",
       "  <thead>\n",
       "    <tr style=\"text-align: right;\">\n",
       "      <th></th>\n",
       "      <th>Kit ID</th>\n",
       "      <th>Borough</th>\n",
       "      <th>Zipcode</th>\n",
       "      <th>Date Received</th>\n",
       "      <th>% of samples over limit</th>\n",
       "      <th>Total samples in zip</th>\n",
       "      <th># of samples over limit in zip</th>\n",
       "      <th>AVG lead levels in over-limit samples (ug/L)</th>\n",
       "      <th>AVG % of limit in overlimit samples</th>\n",
       "    </tr>\n",
       "  </thead>\n",
       "  <tbody>\n",
       "    <tr>\n",
       "      <th>13483</th>\n",
       "      <td>14221258</td>\n",
       "      <td>YONKERS</td>\n",
       "      <td>10701</td>\n",
       "      <td>2014-06-17</td>\n",
       "      <td>0.000000</td>\n",
       "      <td>1</td>\n",
       "      <td>0</td>\n",
       "      <td>No samples over limit</td>\n",
       "      <td>No samples over limit</td>\n",
       "    </tr>\n",
       "    <tr>\n",
       "      <th>15487</th>\n",
       "      <td>16225767</td>\n",
       "      <td>NEW YORK</td>\n",
       "      <td>10179</td>\n",
       "      <td>2016-02-26</td>\n",
       "      <td>0.000000</td>\n",
       "      <td>1</td>\n",
       "      <td>0</td>\n",
       "      <td>No samples over limit</td>\n",
       "      <td>No samples over limit</td>\n",
       "    </tr>\n",
       "    <tr>\n",
       "      <th>17898</th>\n",
       "      <td>16226831</td>\n",
       "      <td>BROOKLYN</td>\n",
       "      <td>11242</td>\n",
       "      <td>2016-05-31</td>\n",
       "      <td>0.000000</td>\n",
       "      <td>1</td>\n",
       "      <td>0</td>\n",
       "      <td>No samples over limit</td>\n",
       "      <td>No samples over limit</td>\n",
       "    </tr>\n",
       "    <tr>\n",
       "      <th>18254</th>\n",
       "      <td>16232271</td>\n",
       "      <td>NEW YORK</td>\n",
       "      <td>10103</td>\n",
       "      <td>2016-06-24</td>\n",
       "      <td>0.000000</td>\n",
       "      <td>1</td>\n",
       "      <td>0</td>\n",
       "      <td>No samples over limit</td>\n",
       "      <td>No samples over limit</td>\n",
       "    </tr>\n",
       "    <tr>\n",
       "      <th>23606</th>\n",
       "      <td>17245567</td>\n",
       "      <td>NEW YORK</td>\n",
       "      <td>10271</td>\n",
       "      <td>2017-11-22</td>\n",
       "      <td>0.000000</td>\n",
       "      <td>1</td>\n",
       "      <td>0</td>\n",
       "      <td>No samples over limit</td>\n",
       "      <td>No samples over limit</td>\n",
       "    </tr>\n",
       "    <tr>\n",
       "      <th>...</th>\n",
       "      <td>...</td>\n",
       "      <td>...</td>\n",
       "      <td>...</td>\n",
       "      <td>...</td>\n",
       "      <td>...</td>\n",
       "      <td>...</td>\n",
       "      <td>...</td>\n",
       "      <td>...</td>\n",
       "      <td>...</td>\n",
       "    </tr>\n",
       "    <tr>\n",
       "      <th>39137</th>\n",
       "      <td>21285048</td>\n",
       "      <td>Manhattan</td>\n",
       "      <td>10031</td>\n",
       "      <td>2022-01-04</td>\n",
       "      <td>0.027149</td>\n",
       "      <td>221</td>\n",
       "      <td>6</td>\n",
       "      <td>67</td>\n",
       "      <td>4.47</td>\n",
       "    </tr>\n",
       "    <tr>\n",
       "      <th>39139</th>\n",
       "      <td>21285647</td>\n",
       "      <td>Staten Island</td>\n",
       "      <td>10304</td>\n",
       "      <td>2022-01-03</td>\n",
       "      <td>0.011236</td>\n",
       "      <td>89</td>\n",
       "      <td>1</td>\n",
       "      <td>9655</td>\n",
       "      <td>643.67</td>\n",
       "    </tr>\n",
       "    <tr>\n",
       "      <th>39140</th>\n",
       "      <td>21279316</td>\n",
       "      <td>Brooklyn</td>\n",
       "      <td>11222</td>\n",
       "      <td>2022-01-10</td>\n",
       "      <td>0.012876</td>\n",
       "      <td>699</td>\n",
       "      <td>9</td>\n",
       "      <td>45</td>\n",
       "      <td>3.01</td>\n",
       "    </tr>\n",
       "    <tr>\n",
       "      <th>39141</th>\n",
       "      <td>20271154</td>\n",
       "      <td>Brooklyn</td>\n",
       "      <td>11210</td>\n",
       "      <td>2022-01-18</td>\n",
       "      <td>0.045226</td>\n",
       "      <td>199</td>\n",
       "      <td>9</td>\n",
       "      <td>45</td>\n",
       "      <td>3.01</td>\n",
       "    </tr>\n",
       "    <tr>\n",
       "      <th>39142</th>\n",
       "      <td>21285639</td>\n",
       "      <td>Brooklyn</td>\n",
       "      <td>11215</td>\n",
       "      <td>2022-01-05</td>\n",
       "      <td>0.029006</td>\n",
       "      <td>1448</td>\n",
       "      <td>42</td>\n",
       "      <td>184</td>\n",
       "      <td>12.25</td>\n",
       "    </tr>\n",
       "  </tbody>\n",
       "</table>\n",
       "<p>191 rows × 9 columns</p>\n",
       "</div>"
      ],
      "text/plain": [
       "         Kit ID        Borough  Zipcode Date Received  \\\n",
       "13483  14221258        YONKERS    10701    2014-06-17   \n",
       "15487  16225767       NEW YORK    10179    2016-02-26   \n",
       "17898  16226831       BROOKLYN    11242    2016-05-31   \n",
       "18254  16232271       NEW YORK    10103    2016-06-24   \n",
       "23606  17245567       NEW YORK    10271    2017-11-22   \n",
       "...         ...            ...      ...           ...   \n",
       "39137  21285048      Manhattan    10031    2022-01-04   \n",
       "39139  21285647  Staten Island    10304    2022-01-03   \n",
       "39140  21279316       Brooklyn    11222    2022-01-10   \n",
       "39141  20271154       Brooklyn    11210    2022-01-18   \n",
       "39142  21285639       Brooklyn    11215    2022-01-05   \n",
       "\n",
       "       % of samples over limit  Total samples in zip  \\\n",
       "13483                 0.000000                     1   \n",
       "15487                 0.000000                     1   \n",
       "17898                 0.000000                     1   \n",
       "18254                 0.000000                     1   \n",
       "23606                 0.000000                     1   \n",
       "...                        ...                   ...   \n",
       "39137                 0.027149                   221   \n",
       "39139                 0.011236                    89   \n",
       "39140                 0.012876                   699   \n",
       "39141                 0.045226                   199   \n",
       "39142                 0.029006                  1448   \n",
       "\n",
       "       # of samples over limit in zip  \\\n",
       "13483                               0   \n",
       "15487                               0   \n",
       "17898                               0   \n",
       "18254                               0   \n",
       "23606                               0   \n",
       "...                               ...   \n",
       "39137                               6   \n",
       "39139                               1   \n",
       "39140                               9   \n",
       "39141                               9   \n",
       "39142                              42   \n",
       "\n",
       "      AVG lead levels in over-limit samples (ug/L)  \\\n",
       "13483                        No samples over limit   \n",
       "15487                        No samples over limit   \n",
       "17898                        No samples over limit   \n",
       "18254                        No samples over limit   \n",
       "23606                        No samples over limit   \n",
       "...                                            ...   \n",
       "39137                                           67   \n",
       "39139                                         9655   \n",
       "39140                                           45   \n",
       "39141                                           45   \n",
       "39142                                          184   \n",
       "\n",
       "      AVG % of limit in overlimit samples  \n",
       "13483               No samples over limit  \n",
       "15487               No samples over limit  \n",
       "17898               No samples over limit  \n",
       "18254               No samples over limit  \n",
       "23606               No samples over limit  \n",
       "...                                   ...  \n",
       "39137                                4.47  \n",
       "39139                              643.67  \n",
       "39140                                3.01  \n",
       "39141                                3.01  \n",
       "39142                               12.25  \n",
       "\n",
       "[191 rows x 9 columns]"
      ]
     },
     "execution_count": 45,
     "metadata": {},
     "output_type": "execute_result"
    }
   ],
   "source": [
    "COMBINED_JUSTZIP_NODUPE\n"
   ]
  },
  {
   "cell_type": "code",
   "execution_count": 49,
   "id": "cbde802e-d539-4701-bb0b-c73053c29333",
   "metadata": {},
   "outputs": [],
   "source": [
    "## create a file for Datawrapper with each zip code's averages only listed once\n",
    "COMBINED_JUSTZIP_NODUPE.to_excel('COMBINED_DROPDUPLICATED.xlsx', index=False)"
   ]
  },
  {
   "cell_type": "code",
   "execution_count": null,
   "id": "ed484c72-d754-46a8-a6d2-3833c4899fa2",
   "metadata": {},
   "outputs": [],
   "source": []
  }
 ],
 "metadata": {
  "kernelspec": {
   "display_name": "Python [conda env:base] *",
   "language": "python",
   "name": "conda-base-py"
  },
  "language_info": {
   "codemirror_mode": {
    "name": "ipython",
    "version": 3
   },
   "file_extension": ".py",
   "mimetype": "text/x-python",
   "name": "python",
   "nbconvert_exporter": "python",
   "pygments_lexer": "ipython3",
   "version": "3.12.7"
  }
 },
 "nbformat": 4,
 "nbformat_minor": 5
}
