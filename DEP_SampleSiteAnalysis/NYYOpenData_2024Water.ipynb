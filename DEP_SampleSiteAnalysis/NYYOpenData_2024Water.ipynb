{
 "cells": [
  {
   "cell_type": "code",
   "execution_count": 1,
   "id": "05e03c45-cd6d-485e-92ea-c37d06f53e63",
   "metadata": {},
   "outputs": [],
   "source": [
    "import pandas as pd"
   ]
  },
  {
   "cell_type": "code",
   "execution_count": 2,
   "id": "1acd03d4-3f24-4f8d-be94-8f35834031c5",
   "metadata": {},
   "outputs": [],
   "source": [
    "## check out a self-sliced DF of fluoride levels in NYC street-side/reservoir samples\n",
    "fluoridewaterqualdf = pd.read_csv(\"NYC_FluorideData_copy.csv\")"
   ]
  },
  {
   "cell_type": "code",
   "execution_count": 3,
   "id": "16cf056c-fcef-4165-ac32-d4b0c9ed9b7b",
   "metadata": {},
   "outputs": [
    {
     "name": "stdout",
     "output_type": "stream",
     "text": [
      "<class 'pandas.core.frame.DataFrame'>\n",
      "RangeIndex: 20183 entries, 0 to 20182\n",
      "Data columns (total 10 columns):\n",
      " #   Column                               Non-Null Count  Dtype  \n",
      "---  ------                               --------------  -----  \n",
      " 0   Sample Number                        20183 non-null  int64  \n",
      " 1   Sample Date                          20183 non-null  object \n",
      " 2   Sample Time                          20183 non-null  object \n",
      " 3   Sample Site                          20183 non-null  object \n",
      " 4   Sample class                         20183 non-null  object \n",
      " 5   Residual Free Chlorine (mg/L)        20183 non-null  float64\n",
      " 6   Turbidity (NTU)                      20183 non-null  object \n",
      " 7   Fluoride (mg/L)                      20183 non-null  object \n",
      " 8   Coliform (Quanti-Tray) (MPN /100mL)  20176 non-null  object \n",
      " 9   E.coli(Quanti-Tray) (MPN/100mL)      20176 non-null  object \n",
      "dtypes: float64(1), int64(1), object(8)\n",
      "memory usage: 1.5+ MB\n"
     ]
    }
   ],
   "source": [
    "fluoridewaterqualdf.info()"
   ]
  },
  {
   "cell_type": "code",
   "execution_count": 4,
   "id": "fae37ff5-e241-4f40-984d-3fa0704d5a08",
   "metadata": {},
   "outputs": [
    {
     "data": {
      "text/plain": [
       "0        <0.30\n",
       "1        <0.30\n",
       "2        <0.30\n",
       "3        <0.30\n",
       "4         <0.3\n",
       "         ...  \n",
       "20178     0.04\n",
       "20179     0.03\n",
       "20180     0.03\n",
       "20181     0.03\n",
       "20182     0.03\n",
       "Name: Fluoride (mg/L), Length: 20183, dtype: object"
      ]
     },
     "execution_count": 4,
     "metadata": {},
     "output_type": "execute_result"
    }
   ],
   "source": [
    "## some levels are marginally high, but fluoride is not a large public health hazard\n",
    "fluoridewaterqualdf[\"Fluoride (mg/L)\"]"
   ]
  },
  {
   "cell_type": "code",
   "execution_count": 5,
   "id": "4193dd99-76f9-430b-8a23-3167128eb3a3",
   "metadata": {},
   "outputs": [
    {
     "name": "stdout",
     "output_type": "stream",
     "text": [
      "<class 'pandas.core.frame.DataFrame'>\n",
      "RangeIndex: 20183 entries, 0 to 20182\n",
      "Data columns (total 10 columns):\n",
      " #   Column                               Non-Null Count  Dtype  \n",
      "---  ------                               --------------  -----  \n",
      " 0   Sample Number                        20183 non-null  int64  \n",
      " 1   Sample Date                          20183 non-null  object \n",
      " 2   Sample Time                          20183 non-null  object \n",
      " 3   Sample Site                          20183 non-null  object \n",
      " 4   Sample class                         20183 non-null  object \n",
      " 5   Residual Free Chlorine (mg/L)        20183 non-null  float64\n",
      " 6   Turbidity (NTU)                      20183 non-null  object \n",
      " 7   Fluoride (mg/L)                      20183 non-null  object \n",
      " 8   Coliform (Quanti-Tray) (MPN /100mL)  20176 non-null  object \n",
      " 9   E.coli(Quanti-Tray) (MPN/100mL)      20176 non-null  object \n",
      "dtypes: float64(1), int64(1), object(8)\n",
      "memory usage: 1.5+ MB\n"
     ]
    }
   ],
   "source": [
    "Chlorinedf = pd.read_csv(\"NYC_FluorideData_copy.csv\")\n",
    "Chlorinedf.info()"
   ]
  },
  {
   "cell_type": "code",
   "execution_count": 6,
   "id": "9a640759-f82a-4ddc-bc8b-3ce2f76a9348",
   "metadata": {},
   "outputs": [],
   "source": [
    "chlorinevalues = Chlorinedf[\"Residual Free Chlorine (mg/L)\"]"
   ]
  },
  {
   "cell_type": "code",
   "execution_count": 7,
   "id": "f82a3881-e053-43f3-9fa7-2b535e2ad654",
   "metadata": {},
   "outputs": [],
   "source": [
    "## New York State's MCL for chlorine is 4 mg/L\n",
    "count1 = (chlorinevalues > 4)"
   ]
  },
  {
   "cell_type": "code",
   "execution_count": 8,
   "id": "f99b9551-c865-4018-80f8-7e1ea0e5c619",
   "metadata": {},
   "outputs": [
    {
     "data": {
      "text/plain": [
       "0        False\n",
       "1        False\n",
       "2        False\n",
       "3        False\n",
       "4        False\n",
       "         ...  \n",
       "20178    False\n",
       "20179    False\n",
       "20180    False\n",
       "20181    False\n",
       "20182    False\n",
       "Name: Residual Free Chlorine (mg/L), Length: 20183, dtype: bool"
      ]
     },
     "execution_count": 8,
     "metadata": {},
     "output_type": "execute_result"
    }
   ],
   "source": [
    "count1"
   ]
  },
  {
   "cell_type": "code",
   "execution_count": 9,
   "id": "7aa2c49a-4688-42e7-bb9d-04bfd681a1ae",
   "metadata": {},
   "outputs": [],
   "source": [
    "## there were no samples that surpassed chlorine MCL\n",
    "count2 = (chlorinevalues > 4).sum()"
   ]
  },
  {
   "cell_type": "code",
   "execution_count": 10,
   "id": "aa33c673-587c-436c-9311-afdc256b9152",
   "metadata": {},
   "outputs": [
    {
     "data": {
      "text/plain": [
       "0"
      ]
     },
     "execution_count": 10,
     "metadata": {},
     "output_type": "execute_result"
    }
   ],
   "source": [
    "count2"
   ]
  },
  {
   "cell_type": "code",
   "execution_count": 11,
   "id": "b13846af-6d9a-483e-af54-3dc93c45dea8",
   "metadata": {},
   "outputs": [
    {
     "name": "stdout",
     "output_type": "stream",
     "text": [
      "Number of values greater than 5: 0\n"
     ]
    }
   ],
   "source": [
    "print(f\"Number of values greater than 5: {count2}\")"
   ]
  },
  {
   "cell_type": "code",
   "execution_count": 12,
   "id": "f159483a-a11b-4587-a32e-b7f9ec2b9e4f",
   "metadata": {},
   "outputs": [
    {
     "data": {
      "text/plain": [
       "0.9335051035576256"
      ]
     },
     "execution_count": 12,
     "metadata": {},
     "output_type": "execute_result"
    }
   ],
   "source": [
    "18840/20182"
   ]
  },
  {
   "cell_type": "code",
   "execution_count": 13,
   "id": "7cf2e26e-31e9-4283-a1dc-e215931cb6ef",
   "metadata": {},
   "outputs": [
    {
     "name": "stderr",
     "output_type": "stream",
     "text": [
      "/var/folders/rc/n80vvwzn0cgc5d6p28yqkgtm0000gn/T/ipykernel_48248/3247908101.py:1: DtypeWarning: Columns (7) have mixed types. Specify dtype option on import or set low_memory=False.\n",
      "  bigdf = pd.read_csv(\"Drinking_Water_Quality_Distribution_Monitoring_Data_20250305.csv\")\n"
     ]
    }
   ],
   "source": [
    "bigdf = pd.read_csv(\"Drinking_Water_Quality_Distribution_Monitoring_Data_20250305.csv\")"
   ]
  },
  {
   "cell_type": "code",
   "execution_count": 14,
   "id": "245545b7-fab9-4961-824d-ecb3e35cb0ae",
   "metadata": {},
   "outputs": [
    {
     "name": "stdout",
     "output_type": "stream",
     "text": [
      "<class 'pandas.core.frame.DataFrame'>\n",
      "RangeIndex: 151480 entries, 0 to 151479\n",
      "Data columns (total 10 columns):\n",
      " #   Column                               Non-Null Count   Dtype  \n",
      "---  ------                               --------------   -----  \n",
      " 0   Sample Number                        151480 non-null  int64  \n",
      " 1   Sample Date                          151480 non-null  object \n",
      " 2   Sample Time                          151479 non-null  object \n",
      " 3   Sample Site                          151477 non-null  object \n",
      " 4   Sample class                         151480 non-null  object \n",
      " 5   Residual Free Chlorine (mg/L)        151431 non-null  float64\n",
      " 6   Turbidity (NTU)                      151428 non-null  object \n",
      " 7   Fluoride (mg/L)                      20183 non-null   object \n",
      " 8   Coliform (Quanti-Tray) (MPN /100mL)  151364 non-null  object \n",
      " 9   E.coli(Quanti-Tray) (MPN/100mL)      151364 non-null  object \n",
      "dtypes: float64(1), int64(1), object(8)\n",
      "memory usage: 11.6+ MB\n"
     ]
    }
   ],
   "source": [
    "bigdf.info()"
   ]
  },
  {
   "cell_type": "code",
   "execution_count": 15,
   "id": "682181c9-04e0-4998-afcc-e1c19620557f",
   "metadata": {},
   "outputs": [],
   "source": [
    "## convert fluoride to integer values for analysis\n",
    "bigdf[\"Fluoride (mg/L)\"] = pd.to_numeric(bigdf[\"Fluoride (mg/L)\"], errors='coerce')"
   ]
  },
  {
   "cell_type": "code",
   "execution_count": 16,
   "id": "291d7673-f21d-464e-b229-1e78c6acf95b",
   "metadata": {},
   "outputs": [
    {
     "name": "stdout",
     "output_type": "stream",
     "text": [
      "<class 'pandas.core.frame.DataFrame'>\n",
      "RangeIndex: 151480 entries, 0 to 151479\n",
      "Data columns (total 10 columns):\n",
      " #   Column                               Non-Null Count   Dtype  \n",
      "---  ------                               --------------   -----  \n",
      " 0   Sample Number                        151480 non-null  int64  \n",
      " 1   Sample Date                          151480 non-null  object \n",
      " 2   Sample Time                          151479 non-null  object \n",
      " 3   Sample Site                          151477 non-null  object \n",
      " 4   Sample class                         151480 non-null  object \n",
      " 5   Residual Free Chlorine (mg/L)        151431 non-null  float64\n",
      " 6   Turbidity (NTU)                      151428 non-null  object \n",
      " 7   Fluoride (mg/L)                      20162 non-null   float64\n",
      " 8   Coliform (Quanti-Tray) (MPN /100mL)  151364 non-null  object \n",
      " 9   E.coli(Quanti-Tray) (MPN/100mL)      151364 non-null  object \n",
      "dtypes: float64(2), int64(1), object(7)\n",
      "memory usage: 11.6+ MB\n"
     ]
    }
   ],
   "source": [
    "## confirm conversion\n",
    "bigdf.info()"
   ]
  },
  {
   "cell_type": "code",
   "execution_count": 17,
   "id": "a0d0d782-49dd-4b64-a099-c2928056bdd2",
   "metadata": {},
   "outputs": [],
   "source": [
    "## check samples that are over the optimum fluoride level\n",
    "overlimitFluoride = bigdf.query(\"`Fluoride (mg/L)` > 0.7\")"
   ]
  },
  {
   "cell_type": "code",
   "execution_count": 52,
   "id": "c0413dc3-1c8e-4436-bbb8-c9e0c3a0845e",
   "metadata": {},
   "outputs": [],
   "source": [
    "## check samples that are over 4.0 mg/L federal and state MCL\n",
    "overlimitFluoride = bigdf.query(\"`Fluoride (mg/L)` > 4\")"
   ]
  },
  {
   "cell_type": "code",
   "execution_count": 54,
   "id": "ad7794de-2da8-4b01-a11b-30fb55d88343",
   "metadata": {},
   "outputs": [
    {
     "data": {
      "text/html": [
       "<div>\n",
       "<style scoped>\n",
       "    .dataframe tbody tr th:only-of-type {\n",
       "        vertical-align: middle;\n",
       "    }\n",
       "\n",
       "    .dataframe tbody tr th {\n",
       "        vertical-align: top;\n",
       "    }\n",
       "\n",
       "    .dataframe thead th {\n",
       "        text-align: right;\n",
       "    }\n",
       "</style>\n",
       "<table border=\"1\" class=\"dataframe\">\n",
       "  <thead>\n",
       "    <tr style=\"text-align: right;\">\n",
       "      <th></th>\n",
       "      <th>Sample Number</th>\n",
       "      <th>Residual Free Chlorine (mg/L)</th>\n",
       "      <th>Turbidity (NTU)</th>\n",
       "      <th>Fluoride (mg/L)</th>\n",
       "    </tr>\n",
       "  </thead>\n",
       "  <tbody>\n",
       "    <tr>\n",
       "      <th>count</th>\n",
       "      <td>0.0</td>\n",
       "      <td>0.0</td>\n",
       "      <td>0.0</td>\n",
       "      <td>0.0</td>\n",
       "    </tr>\n",
       "    <tr>\n",
       "      <th>mean</th>\n",
       "      <td>NaN</td>\n",
       "      <td>NaN</td>\n",
       "      <td>NaN</td>\n",
       "      <td>NaN</td>\n",
       "    </tr>\n",
       "    <tr>\n",
       "      <th>std</th>\n",
       "      <td>NaN</td>\n",
       "      <td>NaN</td>\n",
       "      <td>NaN</td>\n",
       "      <td>NaN</td>\n",
       "    </tr>\n",
       "    <tr>\n",
       "      <th>min</th>\n",
       "      <td>NaN</td>\n",
       "      <td>NaN</td>\n",
       "      <td>NaN</td>\n",
       "      <td>NaN</td>\n",
       "    </tr>\n",
       "    <tr>\n",
       "      <th>25%</th>\n",
       "      <td>NaN</td>\n",
       "      <td>NaN</td>\n",
       "      <td>NaN</td>\n",
       "      <td>NaN</td>\n",
       "    </tr>\n",
       "    <tr>\n",
       "      <th>50%</th>\n",
       "      <td>NaN</td>\n",
       "      <td>NaN</td>\n",
       "      <td>NaN</td>\n",
       "      <td>NaN</td>\n",
       "    </tr>\n",
       "    <tr>\n",
       "      <th>75%</th>\n",
       "      <td>NaN</td>\n",
       "      <td>NaN</td>\n",
       "      <td>NaN</td>\n",
       "      <td>NaN</td>\n",
       "    </tr>\n",
       "    <tr>\n",
       "      <th>max</th>\n",
       "      <td>NaN</td>\n",
       "      <td>NaN</td>\n",
       "      <td>NaN</td>\n",
       "      <td>NaN</td>\n",
       "    </tr>\n",
       "  </tbody>\n",
       "</table>\n",
       "</div>"
      ],
      "text/plain": [
       "       Sample Number  Residual Free Chlorine (mg/L)  Turbidity (NTU)  \\\n",
       "count            0.0                            0.0              0.0   \n",
       "mean             NaN                            NaN              NaN   \n",
       "std              NaN                            NaN              NaN   \n",
       "min              NaN                            NaN              NaN   \n",
       "25%              NaN                            NaN              NaN   \n",
       "50%              NaN                            NaN              NaN   \n",
       "75%              NaN                            NaN              NaN   \n",
       "max              NaN                            NaN              NaN   \n",
       "\n",
       "       Fluoride (mg/L)  \n",
       "count              0.0  \n",
       "mean               NaN  \n",
       "std                NaN  \n",
       "min                NaN  \n",
       "25%                NaN  \n",
       "50%                NaN  \n",
       "75%                NaN  \n",
       "max                NaN  "
      ]
     },
     "execution_count": 54,
     "metadata": {},
     "output_type": "execute_result"
    }
   ],
   "source": [
    "## no samples were over the limit of fluoride, though 11,000 were over the optimum level\n",
    "overlimitFluoride.describe()"
   ]
  },
  {
   "cell_type": "code",
   "execution_count": 19,
   "id": "a8c406aa-5fd1-4686-b8bf-b5a4921809d4",
   "metadata": {},
   "outputs": [],
   "source": [
    "bigdf[\"Turbidity (NTU)\"] = pd.to_numeric(bigdf[\"Turbidity (NTU)\"], errors='coerce')"
   ]
  },
  {
   "cell_type": "code",
   "execution_count": 20,
   "id": "010cb5fd-bbfe-4f3d-8065-afc6c4cae9f8",
   "metadata": {},
   "outputs": [],
   "source": [
    "## turbidity level in New York State is 5 NTU\n",
    "TBDF = bigdf[\"Turbidity (NTU)\"]"
   ]
  },
  {
   "cell_type": "code",
   "execution_count": 21,
   "id": "ee80ee63-f005-4aaa-b88b-bb9953c713d9",
   "metadata": {},
   "outputs": [
    {
     "data": {
      "text/plain": [
       "count    150570.000000\n",
       "mean          0.731172\n",
       "std           0.252255\n",
       "min           0.100000\n",
       "25%           0.620000\n",
       "50%           0.730000\n",
       "75%           0.850000\n",
       "max          33.800000\n",
       "Name: Turbidity (NTU), dtype: float64"
      ]
     },
     "execution_count": 21,
     "metadata": {},
     "output_type": "execute_result"
    }
   ],
   "source": [
    "## check out the turbidity values\n",
    "TBDF.describe()"
   ]
  },
  {
   "cell_type": "code",
   "execution_count": 22,
   "id": "7904ca13-1ad4-4d6c-9726-8a1432637a29",
   "metadata": {},
   "outputs": [],
   "source": [
    "overlimitTurbidity = bigdf.query(\"`Turbidity (NTU)` > 5\")"
   ]
  },
  {
   "cell_type": "code",
   "execution_count": 23,
   "id": "ed52c2db-806c-4e32-bb0b-8ed51b73e0e4",
   "metadata": {},
   "outputs": [
    {
     "data": {
      "text/html": [
       "<div>\n",
       "<style scoped>\n",
       "    .dataframe tbody tr th:only-of-type {\n",
       "        vertical-align: middle;\n",
       "    }\n",
       "\n",
       "    .dataframe tbody tr th {\n",
       "        vertical-align: top;\n",
       "    }\n",
       "\n",
       "    .dataframe thead th {\n",
       "        text-align: right;\n",
       "    }\n",
       "</style>\n",
       "<table border=\"1\" class=\"dataframe\">\n",
       "  <thead>\n",
       "    <tr style=\"text-align: right;\">\n",
       "      <th></th>\n",
       "      <th>Sample Number</th>\n",
       "      <th>Residual Free Chlorine (mg/L)</th>\n",
       "      <th>Turbidity (NTU)</th>\n",
       "      <th>Fluoride (mg/L)</th>\n",
       "    </tr>\n",
       "  </thead>\n",
       "  <tbody>\n",
       "    <tr>\n",
       "      <th>count</th>\n",
       "      <td>2.300000e+01</td>\n",
       "      <td>23.000000</td>\n",
       "      <td>23.000000</td>\n",
       "      <td>1.00</td>\n",
       "    </tr>\n",
       "    <tr>\n",
       "      <th>mean</th>\n",
       "      <td>2.018198e+08</td>\n",
       "      <td>0.598261</td>\n",
       "      <td>8.747391</td>\n",
       "      <td>0.75</td>\n",
       "    </tr>\n",
       "    <tr>\n",
       "      <th>std</th>\n",
       "      <td>1.865887e+05</td>\n",
       "      <td>0.314594</td>\n",
       "      <td>7.198345</td>\n",
       "      <td>NaN</td>\n",
       "    </tr>\n",
       "    <tr>\n",
       "      <th>min</th>\n",
       "      <td>2.015123e+08</td>\n",
       "      <td>0.000000</td>\n",
       "      <td>5.030000</td>\n",
       "      <td>0.75</td>\n",
       "    </tr>\n",
       "    <tr>\n",
       "      <th>25%</th>\n",
       "      <td>2.017188e+08</td>\n",
       "      <td>0.365000</td>\n",
       "      <td>5.450000</td>\n",
       "      <td>0.75</td>\n",
       "    </tr>\n",
       "    <tr>\n",
       "      <th>50%</th>\n",
       "      <td>2.018015e+08</td>\n",
       "      <td>0.600000</td>\n",
       "      <td>6.040000</td>\n",
       "      <td>0.75</td>\n",
       "    </tr>\n",
       "    <tr>\n",
       "      <th>75%</th>\n",
       "      <td>2.019368e+08</td>\n",
       "      <td>0.920000</td>\n",
       "      <td>7.720000</td>\n",
       "      <td>0.75</td>\n",
       "    </tr>\n",
       "    <tr>\n",
       "      <th>max</th>\n",
       "      <td>2.023177e+08</td>\n",
       "      <td>1.060000</td>\n",
       "      <td>33.800000</td>\n",
       "      <td>0.75</td>\n",
       "    </tr>\n",
       "  </tbody>\n",
       "</table>\n",
       "</div>"
      ],
      "text/plain": [
       "       Sample Number  Residual Free Chlorine (mg/L)  Turbidity (NTU)  \\\n",
       "count   2.300000e+01                      23.000000        23.000000   \n",
       "mean    2.018198e+08                       0.598261         8.747391   \n",
       "std     1.865887e+05                       0.314594         7.198345   \n",
       "min     2.015123e+08                       0.000000         5.030000   \n",
       "25%     2.017188e+08                       0.365000         5.450000   \n",
       "50%     2.018015e+08                       0.600000         6.040000   \n",
       "75%     2.019368e+08                       0.920000         7.720000   \n",
       "max     2.023177e+08                       1.060000        33.800000   \n",
       "\n",
       "       Fluoride (mg/L)  \n",
       "count             1.00  \n",
       "mean              0.75  \n",
       "std                NaN  \n",
       "min               0.75  \n",
       "25%               0.75  \n",
       "50%               0.75  \n",
       "75%               0.75  \n",
       "max               0.75  "
      ]
     },
     "execution_count": 23,
     "metadata": {},
     "output_type": "execute_result"
    }
   ],
   "source": [
    "## 23 samples were over the turbidity limit\n",
    "overlimitTurbidity.describe()"
   ]
  },
  {
   "cell_type": "code",
   "execution_count": 24,
   "id": "8f4ca3f3-5a18-41fa-9149-3a3f87144e8d",
   "metadata": {},
   "outputs": [
    {
     "data": {
      "text/plain": [
       "0    12/31/24\n",
       "1    12/31/24\n",
       "2    12/31/24\n",
       "Name: Sample Date, dtype: object"
      ]
     },
     "execution_count": 24,
     "metadata": {},
     "output_type": "execute_result"
    }
   ],
   "source": [
    "## find when the samples were taken.\n",
    "bigdf[\"Sample Date\"].head(3)"
   ]
  },
  {
   "cell_type": "code",
   "execution_count": 25,
   "id": "12d90b02-b949-4f0f-80b7-8e77597bcb4b",
   "metadata": {},
   "outputs": [
    {
     "data": {
      "text/plain": [
       "151477    9/30/24\n",
       "151478    9/30/24\n",
       "151479    9/30/24\n",
       "Name: Sample Date, dtype: object"
      ]
     },
     "execution_count": 25,
     "metadata": {},
     "output_type": "execute_result"
    }
   ],
   "source": [
    "## between Sept 2024 and End of year 2024\n",
    "bigdf[\"Sample Date\"].tail(3)"
   ]
  },
  {
   "cell_type": "code",
   "execution_count": null,
   "id": "ff70cf74-71e1-4e95-887d-564c4728fb42",
   "metadata": {},
   "outputs": [],
   "source": [
    "## decided that fluoride is not an important enough public health threat and that turbidity levels are minimal. will examine lead and other contaminants in other datasets."
   ]
  }
 ],
 "metadata": {
  "kernelspec": {
   "display_name": "Python [conda env:base] *",
   "language": "python",
   "name": "conda-base-py"
  },
  "language_info": {
   "codemirror_mode": {
    "name": "ipython",
    "version": 3
   },
   "file_extension": ".py",
   "mimetype": "text/x-python",
   "name": "python",
   "nbconvert_exporter": "python",
   "pygments_lexer": "ipython3",
   "version": "3.12.7"
  }
 },
 "nbformat": 4,
 "nbformat_minor": 5
}
