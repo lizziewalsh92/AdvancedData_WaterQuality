{
 "cells": [
  {
   "cell_type": "code",
   "execution_count": 8,
   "id": "72887b9d-e586-4f69-b5ac-fb571793c512",
   "metadata": {},
   "outputs": [],
   "source": [
    "import json\n",
    "\n",
    "with open('lead-address-full.json') as f:\n",
    "    data = json.load(f)\n",
    "\n",
    "# Keep only selected fields\n",
    "fields_to_keep = ['FullAddress', 'MATERIAL_GROUP']\n",
    "for feature in data['features']:\n",
    "    feature['properties'] = {\n",
    "        k: v for k, v in feature['properties'].items() if k in fields_to_keep\n",
    "    }\n",
    "\n",
    "with open('lead-address-slim.geojson', 'w') as f:\n",
    "    json.dump(data, f)"
   ]
  },
  {
   "cell_type": "code",
   "execution_count": null,
   "id": "7d734522-d25c-4545-ada8-0301a83bc336",
   "metadata": {},
   "outputs": [],
   "source": []
  }
 ],
 "metadata": {
  "kernelspec": {
   "display_name": "Python [conda env:base] *",
   "language": "python",
   "name": "conda-base-py"
  },
  "language_info": {
   "codemirror_mode": {
    "name": "ipython",
    "version": 3
   },
   "file_extension": ".py",
   "mimetype": "text/x-python",
   "name": "python",
   "nbconvert_exporter": "python",
   "pygments_lexer": "ipython3",
   "version": "3.12.7"
  }
 },
 "nbformat": 4,
 "nbformat_minor": 5
}
