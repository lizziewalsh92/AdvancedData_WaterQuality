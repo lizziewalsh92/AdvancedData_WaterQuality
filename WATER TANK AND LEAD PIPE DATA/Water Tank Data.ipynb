{
 "cells": [
  {
   "cell_type": "code",
   "execution_count": 2,
   "id": "2a74b987-1f42-4210-bd1f-b833b009ce50",
   "metadata": {},
   "outputs": [],
   "source": [
    "import pandas as pd"
   ]
  },
  {
   "cell_type": "code",
   "execution_count": 3,
   "id": "f31d8dba-9a4e-4996-b964-a494f48293fe",
   "metadata": {},
   "outputs": [
    {
     "ename": "FileNotFoundError",
     "evalue": "[Errno 2] No such file or directory: 'RAWFULL_WaterTankData.csv'",
     "output_type": "error",
     "traceback": [
      "\u001b[0;31m---------------------------------------------------------------------------\u001b[0m",
      "\u001b[0;31mFileNotFoundError\u001b[0m                         Traceback (most recent call last)",
      "Cell \u001b[0;32mIn[3], line 1\u001b[0m\n\u001b[0;32m----> 1\u001b[0m df \u001b[38;5;241m=\u001b[39m pd\u001b[38;5;241m.\u001b[39mread_csv(\u001b[38;5;124m\"\u001b[39m\u001b[38;5;124mRAWFULL_WaterTankData.csv\u001b[39m\u001b[38;5;124m\"\u001b[39m)\n",
      "File \u001b[0;32m/opt/anaconda3/lib/python3.12/site-packages/pandas/io/parsers/readers.py:1026\u001b[0m, in \u001b[0;36mread_csv\u001b[0;34m(filepath_or_buffer, sep, delimiter, header, names, index_col, usecols, dtype, engine, converters, true_values, false_values, skipinitialspace, skiprows, skipfooter, nrows, na_values, keep_default_na, na_filter, verbose, skip_blank_lines, parse_dates, infer_datetime_format, keep_date_col, date_parser, date_format, dayfirst, cache_dates, iterator, chunksize, compression, thousands, decimal, lineterminator, quotechar, quoting, doublequote, escapechar, comment, encoding, encoding_errors, dialect, on_bad_lines, delim_whitespace, low_memory, memory_map, float_precision, storage_options, dtype_backend)\u001b[0m\n\u001b[1;32m   1013\u001b[0m kwds_defaults \u001b[38;5;241m=\u001b[39m _refine_defaults_read(\n\u001b[1;32m   1014\u001b[0m     dialect,\n\u001b[1;32m   1015\u001b[0m     delimiter,\n\u001b[0;32m   (...)\u001b[0m\n\u001b[1;32m   1022\u001b[0m     dtype_backend\u001b[38;5;241m=\u001b[39mdtype_backend,\n\u001b[1;32m   1023\u001b[0m )\n\u001b[1;32m   1024\u001b[0m kwds\u001b[38;5;241m.\u001b[39mupdate(kwds_defaults)\n\u001b[0;32m-> 1026\u001b[0m \u001b[38;5;28;01mreturn\u001b[39;00m _read(filepath_or_buffer, kwds)\n",
      "File \u001b[0;32m/opt/anaconda3/lib/python3.12/site-packages/pandas/io/parsers/readers.py:620\u001b[0m, in \u001b[0;36m_read\u001b[0;34m(filepath_or_buffer, kwds)\u001b[0m\n\u001b[1;32m    617\u001b[0m _validate_names(kwds\u001b[38;5;241m.\u001b[39mget(\u001b[38;5;124m\"\u001b[39m\u001b[38;5;124mnames\u001b[39m\u001b[38;5;124m\"\u001b[39m, \u001b[38;5;28;01mNone\u001b[39;00m))\n\u001b[1;32m    619\u001b[0m \u001b[38;5;66;03m# Create the parser.\u001b[39;00m\n\u001b[0;32m--> 620\u001b[0m parser \u001b[38;5;241m=\u001b[39m TextFileReader(filepath_or_buffer, \u001b[38;5;241m*\u001b[39m\u001b[38;5;241m*\u001b[39mkwds)\n\u001b[1;32m    622\u001b[0m \u001b[38;5;28;01mif\u001b[39;00m chunksize \u001b[38;5;129;01mor\u001b[39;00m iterator:\n\u001b[1;32m    623\u001b[0m     \u001b[38;5;28;01mreturn\u001b[39;00m parser\n",
      "File \u001b[0;32m/opt/anaconda3/lib/python3.12/site-packages/pandas/io/parsers/readers.py:1620\u001b[0m, in \u001b[0;36mTextFileReader.__init__\u001b[0;34m(self, f, engine, **kwds)\u001b[0m\n\u001b[1;32m   1617\u001b[0m     \u001b[38;5;28mself\u001b[39m\u001b[38;5;241m.\u001b[39moptions[\u001b[38;5;124m\"\u001b[39m\u001b[38;5;124mhas_index_names\u001b[39m\u001b[38;5;124m\"\u001b[39m] \u001b[38;5;241m=\u001b[39m kwds[\u001b[38;5;124m\"\u001b[39m\u001b[38;5;124mhas_index_names\u001b[39m\u001b[38;5;124m\"\u001b[39m]\n\u001b[1;32m   1619\u001b[0m \u001b[38;5;28mself\u001b[39m\u001b[38;5;241m.\u001b[39mhandles: IOHandles \u001b[38;5;241m|\u001b[39m \u001b[38;5;28;01mNone\u001b[39;00m \u001b[38;5;241m=\u001b[39m \u001b[38;5;28;01mNone\u001b[39;00m\n\u001b[0;32m-> 1620\u001b[0m \u001b[38;5;28mself\u001b[39m\u001b[38;5;241m.\u001b[39m_engine \u001b[38;5;241m=\u001b[39m \u001b[38;5;28mself\u001b[39m\u001b[38;5;241m.\u001b[39m_make_engine(f, \u001b[38;5;28mself\u001b[39m\u001b[38;5;241m.\u001b[39mengine)\n",
      "File \u001b[0;32m/opt/anaconda3/lib/python3.12/site-packages/pandas/io/parsers/readers.py:1880\u001b[0m, in \u001b[0;36mTextFileReader._make_engine\u001b[0;34m(self, f, engine)\u001b[0m\n\u001b[1;32m   1878\u001b[0m     \u001b[38;5;28;01mif\u001b[39;00m \u001b[38;5;124m\"\u001b[39m\u001b[38;5;124mb\u001b[39m\u001b[38;5;124m\"\u001b[39m \u001b[38;5;129;01mnot\u001b[39;00m \u001b[38;5;129;01min\u001b[39;00m mode:\n\u001b[1;32m   1879\u001b[0m         mode \u001b[38;5;241m+\u001b[39m\u001b[38;5;241m=\u001b[39m \u001b[38;5;124m\"\u001b[39m\u001b[38;5;124mb\u001b[39m\u001b[38;5;124m\"\u001b[39m\n\u001b[0;32m-> 1880\u001b[0m \u001b[38;5;28mself\u001b[39m\u001b[38;5;241m.\u001b[39mhandles \u001b[38;5;241m=\u001b[39m get_handle(\n\u001b[1;32m   1881\u001b[0m     f,\n\u001b[1;32m   1882\u001b[0m     mode,\n\u001b[1;32m   1883\u001b[0m     encoding\u001b[38;5;241m=\u001b[39m\u001b[38;5;28mself\u001b[39m\u001b[38;5;241m.\u001b[39moptions\u001b[38;5;241m.\u001b[39mget(\u001b[38;5;124m\"\u001b[39m\u001b[38;5;124mencoding\u001b[39m\u001b[38;5;124m\"\u001b[39m, \u001b[38;5;28;01mNone\u001b[39;00m),\n\u001b[1;32m   1884\u001b[0m     compression\u001b[38;5;241m=\u001b[39m\u001b[38;5;28mself\u001b[39m\u001b[38;5;241m.\u001b[39moptions\u001b[38;5;241m.\u001b[39mget(\u001b[38;5;124m\"\u001b[39m\u001b[38;5;124mcompression\u001b[39m\u001b[38;5;124m\"\u001b[39m, \u001b[38;5;28;01mNone\u001b[39;00m),\n\u001b[1;32m   1885\u001b[0m     memory_map\u001b[38;5;241m=\u001b[39m\u001b[38;5;28mself\u001b[39m\u001b[38;5;241m.\u001b[39moptions\u001b[38;5;241m.\u001b[39mget(\u001b[38;5;124m\"\u001b[39m\u001b[38;5;124mmemory_map\u001b[39m\u001b[38;5;124m\"\u001b[39m, \u001b[38;5;28;01mFalse\u001b[39;00m),\n\u001b[1;32m   1886\u001b[0m     is_text\u001b[38;5;241m=\u001b[39mis_text,\n\u001b[1;32m   1887\u001b[0m     errors\u001b[38;5;241m=\u001b[39m\u001b[38;5;28mself\u001b[39m\u001b[38;5;241m.\u001b[39moptions\u001b[38;5;241m.\u001b[39mget(\u001b[38;5;124m\"\u001b[39m\u001b[38;5;124mencoding_errors\u001b[39m\u001b[38;5;124m\"\u001b[39m, \u001b[38;5;124m\"\u001b[39m\u001b[38;5;124mstrict\u001b[39m\u001b[38;5;124m\"\u001b[39m),\n\u001b[1;32m   1888\u001b[0m     storage_options\u001b[38;5;241m=\u001b[39m\u001b[38;5;28mself\u001b[39m\u001b[38;5;241m.\u001b[39moptions\u001b[38;5;241m.\u001b[39mget(\u001b[38;5;124m\"\u001b[39m\u001b[38;5;124mstorage_options\u001b[39m\u001b[38;5;124m\"\u001b[39m, \u001b[38;5;28;01mNone\u001b[39;00m),\n\u001b[1;32m   1889\u001b[0m )\n\u001b[1;32m   1890\u001b[0m \u001b[38;5;28;01massert\u001b[39;00m \u001b[38;5;28mself\u001b[39m\u001b[38;5;241m.\u001b[39mhandles \u001b[38;5;129;01mis\u001b[39;00m \u001b[38;5;129;01mnot\u001b[39;00m \u001b[38;5;28;01mNone\u001b[39;00m\n\u001b[1;32m   1891\u001b[0m f \u001b[38;5;241m=\u001b[39m \u001b[38;5;28mself\u001b[39m\u001b[38;5;241m.\u001b[39mhandles\u001b[38;5;241m.\u001b[39mhandle\n",
      "File \u001b[0;32m/opt/anaconda3/lib/python3.12/site-packages/pandas/io/common.py:873\u001b[0m, in \u001b[0;36mget_handle\u001b[0;34m(path_or_buf, mode, encoding, compression, memory_map, is_text, errors, storage_options)\u001b[0m\n\u001b[1;32m    868\u001b[0m \u001b[38;5;28;01melif\u001b[39;00m \u001b[38;5;28misinstance\u001b[39m(handle, \u001b[38;5;28mstr\u001b[39m):\n\u001b[1;32m    869\u001b[0m     \u001b[38;5;66;03m# Check whether the filename is to be opened in binary mode.\u001b[39;00m\n\u001b[1;32m    870\u001b[0m     \u001b[38;5;66;03m# Binary mode does not support 'encoding' and 'newline'.\u001b[39;00m\n\u001b[1;32m    871\u001b[0m     \u001b[38;5;28;01mif\u001b[39;00m ioargs\u001b[38;5;241m.\u001b[39mencoding \u001b[38;5;129;01mand\u001b[39;00m \u001b[38;5;124m\"\u001b[39m\u001b[38;5;124mb\u001b[39m\u001b[38;5;124m\"\u001b[39m \u001b[38;5;129;01mnot\u001b[39;00m \u001b[38;5;129;01min\u001b[39;00m ioargs\u001b[38;5;241m.\u001b[39mmode:\n\u001b[1;32m    872\u001b[0m         \u001b[38;5;66;03m# Encoding\u001b[39;00m\n\u001b[0;32m--> 873\u001b[0m         handle \u001b[38;5;241m=\u001b[39m \u001b[38;5;28mopen\u001b[39m(\n\u001b[1;32m    874\u001b[0m             handle,\n\u001b[1;32m    875\u001b[0m             ioargs\u001b[38;5;241m.\u001b[39mmode,\n\u001b[1;32m    876\u001b[0m             encoding\u001b[38;5;241m=\u001b[39mioargs\u001b[38;5;241m.\u001b[39mencoding,\n\u001b[1;32m    877\u001b[0m             errors\u001b[38;5;241m=\u001b[39merrors,\n\u001b[1;32m    878\u001b[0m             newline\u001b[38;5;241m=\u001b[39m\u001b[38;5;124m\"\u001b[39m\u001b[38;5;124m\"\u001b[39m,\n\u001b[1;32m    879\u001b[0m         )\n\u001b[1;32m    880\u001b[0m     \u001b[38;5;28;01melse\u001b[39;00m:\n\u001b[1;32m    881\u001b[0m         \u001b[38;5;66;03m# Binary mode\u001b[39;00m\n\u001b[1;32m    882\u001b[0m         handle \u001b[38;5;241m=\u001b[39m \u001b[38;5;28mopen\u001b[39m(handle, ioargs\u001b[38;5;241m.\u001b[39mmode)\n",
      "\u001b[0;31mFileNotFoundError\u001b[0m: [Errno 2] No such file or directory: 'RAWFULL_WaterTankData.csv'"
     ]
    }
   ],
   "source": [
    "df = pd.read_csv(\"RAWFULL_WaterTankData.csv\")"
   ]
  },
  {
   "cell_type": "code",
   "execution_count": null,
   "id": "f9b5f89e-74d0-4bd4-91e7-236fedb38e7e",
   "metadata": {},
   "outputs": [],
   "source": [
    "df.info()"
   ]
  },
  {
   "cell_type": "code",
   "execution_count": null,
   "id": "b4d06c93-0844-4ca1-ba3d-6beb53b55c84",
   "metadata": {},
   "outputs": [],
   "source": [
    "## 90 tanks with biological growth\n",
    "df.query(\"BIOLOGICAL_GROWTH == 'A'\")"
   ]
  },
  {
   "cell_type": "code",
   "execution_count": null,
   "id": "17b43ecd-6952-4485-bfca-2731dfdf584b",
   "metadata": {},
   "outputs": [],
   "source": [
    "## 237 tanks have unacceptable internal or external structure\n",
    "df.query(\"(INTERNAL_STRUCTURE=='A') or (EXTERNAL_STRUCTURE=='A')\")"
   ]
  },
  {
   "cell_type": "code",
   "execution_count": null,
   "id": "63da9a6f-c0e2-4986-8eaf-df43b5aa5dd9",
   "metadata": {},
   "outputs": [],
   "source": [
    "## determine that Meet Standards column is unfilled/inaccurate\n",
    "\n",
    "df.query(\"MEET_STANDARDS== 'N' or MEET_STANDARDS == ' '\")"
   ]
  },
  {
   "cell_type": "code",
   "execution_count": null,
   "id": "3d50bfe8-1398-45a4-a38c-361447cf0be1",
   "metadata": {},
   "outputs": [],
   "source": [
    "df.query(\"(COLIFORM=='A') or (ECOLI=='A')\")"
   ]
  },
  {
   "cell_type": "code",
   "execution_count": null,
   "id": "97baefa9-4095-4179-8687-24fb0cf771a9",
   "metadata": {},
   "outputs": [],
   "source": [
    "## 213 water tanks have insect debris\n",
    "df.query(\"DEBRIS_INSECTS=='A'\")"
   ]
  },
  {
   "cell_type": "code",
   "execution_count": null,
   "id": "e23d3916-432d-43cd-9b2f-4734f803baab",
   "metadata": {},
   "outputs": [],
   "source": [
    "## 226 water tanks have rodent/bird, or insect debris\n",
    "df.query(\"(RODENT_BIRD=='A') or (DEBRIS_INSECTS=='A')\")"
   ]
  },
  {
   "cell_type": "code",
   "execution_count": null,
   "id": "c9fca57b-2caf-4ee2-8925-17abde0bec70",
   "metadata": {},
   "outputs": [],
   "source": [
    "## 42 tanks have rodent or bird poop\n",
    "df.query(\"RODENT_BIRD=='A'\")"
   ]
  },
  {
   "cell_type": "code",
   "execution_count": null,
   "id": "266c3967-9c51-46d6-b335-12b0eee34c08",
   "metadata": {},
   "outputs": [],
   "source": [
    "bacteriadf.count()"
   ]
  },
  {
   "cell_type": "code",
   "execution_count": null,
   "id": "a4877008-f232-4688-b513-17188380165c",
   "metadata": {},
   "outputs": [],
   "source": [
    "dnmeet = df.query(\"MEET_STANDARDS == 'N'\")"
   ]
  },
  {
   "cell_type": "code",
   "execution_count": null,
   "id": "709cbbcc-cb9f-4767-838c-52f428b1b366",
   "metadata": {},
   "outputs": [],
   "source": [
    "dnmeet.count()"
   ]
  },
  {
   "cell_type": "code",
   "execution_count": null,
   "id": "7f3965ed-9b8f-4a83-9eec-ef7b1ad0c879",
   "metadata": {},
   "outputs": [],
   "source": [
    "df.count()"
   ]
  },
  {
   "cell_type": "code",
   "execution_count": null,
   "id": "e1086cb4-d4cb-4047-a09c-93262d8514a0",
   "metadata": {},
   "outputs": [],
   "source": [
    "df[\"INSPECTION_DATE\"] = pd.to_datetime(df[\"INSPECTION_DATE\"], format=\"%m/%d/%Y\")"
   ]
  },
  {
   "cell_type": "code",
   "execution_count": null,
   "id": "3b9ab57d-3f40-44a0-a1b5-3a15103bd07f",
   "metadata": {},
   "outputs": [],
   "source": [
    "start_date = pd.Timestamp(\"2020-01-01\")\n",
    "end_date = pd.Timestamp(\"2025-04-08\")"
   ]
  },
  {
   "cell_type": "code",
   "execution_count": null,
   "id": "6479a8aa-c9a9-411d-96db-e47106bbb523",
   "metadata": {},
   "outputs": [],
   "source": [
    "df[\"INSPECTION_DATE\"] = pd.to_datetime(df[\"INSPECTION_DATE\"])\n",
    "\n",
    "# filter the dataframe with the dates\n",
    "df20tonow = df[(df[\"INSPECTION_DATE\"] >= start_date) & (df[\"INSPECTION_DATE\"] <= end_date)]"
   ]
  },
  {
   "cell_type": "code",
   "execution_count": null,
   "id": "6ade0029-b830-49cf-8e8c-89ac84691753",
   "metadata": {},
   "outputs": [],
   "source": [
    "df20tonow.to_csv(\"WaterTankData_CLEANED_2020toPresent.csv\", index=False)"
   ]
  },
  {
   "cell_type": "code",
   "execution_count": null,
   "id": "76295980-e1a2-4ef0-a30e-a2252877ad70",
   "metadata": {},
   "outputs": [],
   "source": [
    "## creating a new dataset for google map creation. using alltime data, combining rodent + insect debris violations, combining structural violations, combining coliform and ecoli violations\n",
    "dfALLTIME = pd.read_csv(\"WaterTankData_CLEANED_ALLTIME.csv\")"
   ]
  },
  {
   "cell_type": "code",
   "execution_count": null,
   "id": "e4d451da-240b-4618-a2b3-4a3b36584a00",
   "metadata": {},
   "outputs": [],
   "source": [
    "dirtytanksalltime = dfALLTIME.query(\"(RODENT_BIRD=='A') or (DEBRIS_INSECTS=='A') or (COLIFORM=='A') or (ECOLI=='A') or (BIOLOGICAL_GROWTH == 'A') or (INTERNAL_STRUCTURE=='A') or (EXTERNAL_STRUCTURE=='A')\")"
   ]
  },
  {
   "cell_type": "code",
   "execution_count": null,
   "id": "f680ca35-60f7-4c76-beaf-db82c900c4cd",
   "metadata": {},
   "outputs": [],
   "source": [
    "start_date = pd.Timestamp(\"2020-01-01\")\n",
    "end_date = pd.Timestamp(\"2025-04-08\")\n",
    "dirtytanksalltime[\"INSPECTION_DATE\"] = pd.to_datetime(dirtytanksalltime[\"INSPECTION_DATE\"])\n",
    "dt2020tonow = dirtytanksalltime[(dirtytanksalltime[\"INSPECTION_DATE\"] >= start_date) & (dirtytanksalltime[\"INSPECTION_DATE\"] <= end_date)]"
   ]
  },
  {
   "cell_type": "code",
   "execution_count": null,
   "id": "8b9e831f-b3fe-4590-b462-d7a1c15682a8",
   "metadata": {},
   "outputs": [],
   "source": [
    "dt2020tonow.to_csv(\"Tanks_with_one_or_more_violations_2020_to_present.csv\")"
   ]
  },
  {
   "cell_type": "code",
   "execution_count": null,
   "id": "07d02f51-3bab-4956-b5b2-c6e8f14ae605",
   "metadata": {},
   "outputs": [],
   "source": [
    "pd.read_excel(\"WATER TANK MASTER.xlsx\")"
   ]
  },
  {
   "cell_type": "code",
   "execution_count": null,
   "id": "75bc57ff-2b9f-4cce-9ab7-3bd10c8f0e61",
   "metadata": {},
   "outputs": [],
   "source": []
  }
 ],
 "metadata": {
  "kernelspec": {
   "display_name": "Python [conda env:base] *",
   "language": "python",
   "name": "conda-base-py"
  },
  "language_info": {
   "codemirror_mode": {
    "name": "ipython",
    "version": 3
   },
   "file_extension": ".py",
   "mimetype": "text/x-python",
   "name": "python",
   "nbconvert_exporter": "python",
   "pygments_lexer": "ipython3",
   "version": "3.12.7"
  }
 },
 "nbformat": 4,
 "nbformat_minor": 5
}
