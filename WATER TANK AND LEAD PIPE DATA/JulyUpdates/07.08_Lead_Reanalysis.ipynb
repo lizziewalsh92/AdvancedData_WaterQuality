{
 "cells": [
  {
   "cell_type": "code",
   "execution_count": 2,
   "id": "33091a2e-0135-4f45-972e-15bbe292f8bf",
   "metadata": {},
   "outputs": [],
   "source": [
    "import pandas as pd"
   ]
  },
  {
   "cell_type": "code",
   "execution_count": 4,
   "id": "f75fcf6e-43a2-43c0-a145-4532a65158c9",
   "metadata": {},
   "outputs": [],
   "source": [
    "## 3943 samples analyzed between 2014-2023\n",
    "df14_23 = pd.read_excel(\"LEAD PIPE MASTER.xlsx\", sheet_name = '2014-2023_CALCULATIONS (3944)')"
   ]
  },
  {
   "cell_type": "code",
   "execution_count": 6,
   "id": "839c87b7-57e0-4adf-aeb9-d66668656ffe",
   "metadata": {},
   "outputs": [
    {
     "name": "stdout",
     "output_type": "stream",
     "text": [
      "<class 'pandas.core.frame.DataFrame'>\n",
      "RangeIndex: 3943 entries, 0 to 3942\n",
      "Data columns (total 21 columns):\n",
      " #   Column                                     Non-Null Count  Dtype         \n",
      "---  ------                                     --------------  -----         \n",
      " 0   KIT ID Number                              3943 non-null   int64         \n",
      " 1   Borough                                    3943 non-null   object        \n",
      " 2   AVG % of limit in overlimit samples        3943 non-null   object        \n",
      " 3   AVG lead levels in over-limit samples      3943 non-null   object        \n",
      " 4   AVG lead level in zip                      3943 non-null   float64       \n",
      " 5   # of samples over limit in zip             3943 non-null   int64         \n",
      " 6   Count of samples                           3943 non-null   int64         \n",
      " 7   Zipcode                                    3943 non-null   int64         \n",
      " 8   Date Collected                             3943 non-null   datetime64[ns]\n",
      " 9   Received Date                              3943 non-null   datetime64[ns]\n",
      " 10  Percent over limit                         3943 non-null   float64       \n",
      " 11  First Draw at-the-tap Lead level (¬µg/l)   3943 non-null   int64         \n",
      " 12  First Draw at-the-tap copper level (mg/l)  3943 non-null   float64       \n",
      " 13  Unnamed: 13                                0 non-null      float64       \n",
      " 14  Unnamed: 14                                0 non-null      float64       \n",
      " 15  AVG LEAD LEVEL                             1 non-null      float64       \n",
      " 16  AVG LEAD LEVEL IN OVERLIMIT                1 non-null      float64       \n",
      " 17  Unnamed: 17                                0 non-null      float64       \n",
      " 18  AVG Samples over limit                     1 non-null      float64       \n",
      " 19  AVG # OF SAMPLES                           1 non-null      float64       \n",
      " 20  TOTAL AVG % OF SAMPLES OVER LIMIT          1 non-null      float64       \n",
      "dtypes: datetime64[ns](2), float64(11), int64(5), object(3)\n",
      "memory usage: 647.0+ KB\n"
     ]
    }
   ],
   "source": [
    "df14_23.info()"
   ]
  },
  {
   "cell_type": "code",
   "execution_count": null,
   "id": "afbb5d7c-37e9-4c8f-9d2b-aea76efbfcc3",
   "metadata": {},
   "outputs": [],
   "source": [
    "df14_23 = pd.read_excel(\"LEAD PIPE MASTER.xlsx\", sheet_name = '2014-2023_CALCULATIONS (3944)')"
   ]
  }
 ],
 "metadata": {
  "kernelspec": {
   "display_name": "Python [conda env:base] *",
   "language": "python",
   "name": "conda-base-py"
  },
  "language_info": {
   "codemirror_mode": {
    "name": "ipython",
    "version": 3
   },
   "file_extension": ".py",
   "mimetype": "text/x-python",
   "name": "python",
   "nbconvert_exporter": "python",
   "pygments_lexer": "ipython3",
   "version": "3.12.7"
  }
 },
 "nbformat": 4,
 "nbformat_minor": 5
}
