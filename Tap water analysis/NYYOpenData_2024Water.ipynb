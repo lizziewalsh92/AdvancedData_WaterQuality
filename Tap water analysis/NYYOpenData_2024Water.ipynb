{
 "cells": [
  {
   "cell_type": "code",
   "execution_count": 2,
   "id": "05e03c45-cd6d-485e-92ea-c37d06f53e63",
   "metadata": {},
   "outputs": [],
   "source": [
    "import pandas as pd"
   ]
  },
  {
   "cell_type": "code",
   "execution_count": 3,
   "id": "1acd03d4-3f24-4f8d-be94-8f35834031c5",
   "metadata": {},
   "outputs": [],
   "source": [
    "fluoridewaterqualdf = pd.read_csv(\"NYC_FluorideData.csv\")"
   ]
  },
  {
   "cell_type": "code",
   "execution_count": 4,
   "id": "16cf056c-fcef-4165-ac32-d4b0c9ed9b7b",
   "metadata": {},
   "outputs": [
    {
     "name": "stdout",
     "output_type": "stream",
     "text": [
      "<class 'pandas.core.frame.DataFrame'>\n",
      "RangeIndex: 20183 entries, 0 to 20182\n",
      "Data columns (total 10 columns):\n",
      " #   Column                               Non-Null Count  Dtype  \n",
      "---  ------                               --------------  -----  \n",
      " 0   Sample Number                        20183 non-null  int64  \n",
      " 1   Sample Date                          20183 non-null  object \n",
      " 2   Sample Time                          20183 non-null  object \n",
      " 3   Sample Site                          20183 non-null  object \n",
      " 4   Sample class                         20183 non-null  object \n",
      " 5   Residual Free Chlorine (mg/L)        20183 non-null  float64\n",
      " 6   Turbidity (NTU)                      20183 non-null  object \n",
      " 7   Fluoride (mg/L)                      20183 non-null  object \n",
      " 8   Coliform (Quanti-Tray) (MPN /100mL)  20176 non-null  object \n",
      " 9   E.coli(Quanti-Tray) (MPN/100mL)      20176 non-null  object \n",
      "dtypes: float64(1), int64(1), object(8)\n",
      "memory usage: 1.5+ MB\n"
     ]
    }
   ],
   "source": [
    "fluoridewaterqualdf.info()"
   ]
  },
  {
   "cell_type": "code",
   "execution_count": 5,
   "id": "fae37ff5-e241-4f40-984d-3fa0704d5a08",
   "metadata": {},
   "outputs": [
    {
     "data": {
      "text/plain": [
       "0        <0.30\n",
       "1        <0.30\n",
       "2        <0.30\n",
       "3        <0.30\n",
       "4         <0.3\n",
       "         ...  \n",
       "20178     0.04\n",
       "20179     0.03\n",
       "20180     0.03\n",
       "20181     0.03\n",
       "20182     0.03\n",
       "Name: Fluoride (mg/L), Length: 20183, dtype: object"
      ]
     },
     "execution_count": 5,
     "metadata": {},
     "output_type": "execute_result"
    }
   ],
   "source": [
    "fluoridewaterqualdf[\"Fluoride (mg/L)\"]"
   ]
  },
  {
   "cell_type": "code",
   "execution_count": null,
   "id": "4193dd99-76f9-430b-8a23-3167128eb3a3",
   "metadata": {},
   "outputs": [],
   "source": [
    "Chlorinedf.info()"
   ]
  },
  {
   "cell_type": "code",
   "execution_count": null,
   "id": "9a640759-f82a-4ddc-bc8b-3ce2f76a9348",
   "metadata": {},
   "outputs": [],
   "source": [
    "chlorinevalues = Chlorinedf[\"Residual Free Chlorine (mg/L)\"]"
   ]
  },
  {
   "cell_type": "code",
   "execution_count": null,
   "id": "f82a3881-e053-43f3-9fa7-2b535e2ad654",
   "metadata": {},
   "outputs": [],
   "source": [
    "count1 = (chlorinevalues > 4)"
   ]
  },
  {
   "cell_type": "code",
   "execution_count": null,
   "id": "f99b9551-c865-4018-80f8-7e1ea0e5c619",
   "metadata": {},
   "outputs": [],
   "source": [
    "count1"
   ]
  },
  {
   "cell_type": "code",
   "execution_count": null,
   "id": "7aa2c49a-4688-42e7-bb9d-04bfd681a1ae",
   "metadata": {},
   "outputs": [],
   "source": [
    "count2 = (chlorinevalues > 4).sum()"
   ]
  },
  {
   "cell_type": "code",
   "execution_count": null,
   "id": "aa33c673-587c-436c-9311-afdc256b9152",
   "metadata": {},
   "outputs": [],
   "source": [
    "count2"
   ]
  },
  {
   "cell_type": "code",
   "execution_count": null,
   "id": "b13846af-6d9a-483e-af54-3dc93c45dea8",
   "metadata": {},
   "outputs": [],
   "source": [
    "print(f\"Number of values greater than 5: {count2}\")"
   ]
  },
  {
   "cell_type": "code",
   "execution_count": null,
   "id": "f159483a-a11b-4587-a32e-b7f9ec2b9e4f",
   "metadata": {},
   "outputs": [],
   "source": [
    "18840/20182"
   ]
  },
  {
   "cell_type": "code",
   "execution_count": 22,
   "id": "7cf2e26e-31e9-4283-a1dc-e215931cb6ef",
   "metadata": {},
   "outputs": [
    {
     "name": "stderr",
     "output_type": "stream",
     "text": [
      "/var/folders/rc/n80vvwzn0cgc5d6p28yqkgtm0000gn/T/ipykernel_2980/3247908101.py:1: DtypeWarning: Columns (7) have mixed types. Specify dtype option on import or set low_memory=False.\n",
      "  bigdf = pd.read_csv(\"Drinking_Water_Quality_Distribution_Monitoring_Data_20250305.csv\")\n"
     ]
    }
   ],
   "source": [
    "bigdf = pd.read_csv(\"Drinking_Water_Quality_Distribution_Monitoring_Data_20250305.csv\")"
   ]
  },
  {
   "cell_type": "code",
   "execution_count": 24,
   "id": "245545b7-fab9-4961-824d-ecb3e35cb0ae",
   "metadata": {},
   "outputs": [
    {
     "name": "stdout",
     "output_type": "stream",
     "text": [
      "<class 'pandas.core.frame.DataFrame'>\n",
      "RangeIndex: 151480 entries, 0 to 151479\n",
      "Data columns (total 10 columns):\n",
      " #   Column                               Non-Null Count   Dtype  \n",
      "---  ------                               --------------   -----  \n",
      " 0   Sample Number                        151480 non-null  int64  \n",
      " 1   Sample Date                          151480 non-null  object \n",
      " 2   Sample Time                          151479 non-null  object \n",
      " 3   Sample Site                          151477 non-null  object \n",
      " 4   Sample class                         151480 non-null  object \n",
      " 5   Residual Free Chlorine (mg/L)        151431 non-null  float64\n",
      " 6   Turbidity (NTU)                      151428 non-null  object \n",
      " 7   Fluoride (mg/L)                      20183 non-null   object \n",
      " 8   Coliform (Quanti-Tray) (MPN /100mL)  151364 non-null  object \n",
      " 9   E.coli(Quanti-Tray) (MPN/100mL)      151364 non-null  object \n",
      "dtypes: float64(1), int64(1), object(8)\n",
      "memory usage: 11.6+ MB\n"
     ]
    }
   ],
   "source": [
    "bigdf.info()"
   ]
  },
  {
   "cell_type": "code",
   "execution_count": 26,
   "id": "d9f34e26-13cb-42fe-8c30-472bcd059606",
   "metadata": {},
   "outputs": [],
   "source": [
    "FLDF = bigdf[\"Fluoride (mg/L)\"]"
   ]
  },
  {
   "cell_type": "code",
   "execution_count": 30,
   "id": "291d7673-f21d-464e-b229-1e78c6acf95b",
   "metadata": {},
   "outputs": [
    {
     "name": "stdout",
     "output_type": "stream",
     "text": [
      "<class 'pandas.core.series.Series'>\n",
      "RangeIndex: 151480 entries, 0 to 151479\n",
      "Series name: Fluoride (mg/L)\n",
      "Non-Null Count  Dtype \n",
      "--------------  ----- \n",
      "20183 non-null  object\n",
      "dtypes: object(1)\n",
      "memory usage: 1.2+ MB\n"
     ]
    }
   ],
   "source": [
    "FLDF.info()"
   ]
  },
  {
   "cell_type": "code",
   "execution_count": 32,
   "id": "a0d0d782-49dd-4b64-a099-c2928056bdd2",
   "metadata": {},
   "outputs": [
    {
     "data": {
      "text/plain": [
       "count     20183.00\n",
       "unique      126.00\n",
       "top           0.72\n",
       "freq       1631.00\n",
       "Name: Fluoride (mg/L), dtype: float64"
      ]
     },
     "execution_count": 32,
     "metadata": {},
     "output_type": "execute_result"
    }
   ],
   "source": [
    "FLDF.describe()"
   ]
  },
  {
   "cell_type": "code",
   "execution_count": 36,
   "id": "010cb5fd-bbfe-4f3d-8065-afc6c4cae9f8",
   "metadata": {},
   "outputs": [],
   "source": [
    "TBDF = bigdf[\"Turbidity (NTU)\"]"
   ]
  },
  {
   "cell_type": "code",
   "execution_count": 38,
   "id": "ee80ee63-f005-4aaa-b88b-bb9953c713d9",
   "metadata": {},
   "outputs": [
    {
     "data": {
      "text/plain": [
       "count     151428\n",
       "unique       301\n",
       "top         0.70\n",
       "freq        3842\n",
       "Name: Turbidity (NTU), dtype: object"
      ]
     },
     "execution_count": 38,
     "metadata": {},
     "output_type": "execute_result"
    }
   ],
   "source": [
    "TBDF.describe()"
   ]
  },
  {
   "cell_type": "code",
   "execution_count": null,
   "id": "7904ca13-1ad4-4d6c-9726-8a1432637a29",
   "metadata": {},
   "outputs": [],
   "source": []
  }
 ],
 "metadata": {
  "kernelspec": {
   "display_name": "Python [conda env:base] *",
   "language": "python",
   "name": "conda-base-py"
  },
  "language_info": {
   "codemirror_mode": {
    "name": "ipython",
    "version": 3
   },
   "file_extension": ".py",
   "mimetype": "text/x-python",
   "name": "python",
   "nbconvert_exporter": "python",
   "pygments_lexer": "ipython3",
   "version": "3.12.7"
  }
 },
 "nbformat": 4,
 "nbformat_minor": 5
}
