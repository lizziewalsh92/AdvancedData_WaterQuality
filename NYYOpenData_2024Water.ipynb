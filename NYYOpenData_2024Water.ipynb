{
 "cells": [
  {
   "cell_type": "code",
   "execution_count": 4,
   "id": "05e03c45-cd6d-485e-92ea-c37d06f53e63",
   "metadata": {},
   "outputs": [],
   "source": [
    "import pandas as pd"
   ]
  },
  {
   "cell_type": "code",
   "execution_count": 18,
   "id": "1acd03d4-3f24-4f8d-be94-8f35834031c5",
   "metadata": {},
   "outputs": [],
   "source": [
    "fluoridewaterqualdf = pd.read_csv(\"NYC_FluorideData.csv\")"
   ]
  },
  {
   "cell_type": "code",
   "execution_count": 22,
   "id": "16cf056c-fcef-4165-ac32-d4b0c9ed9b7b",
   "metadata": {},
   "outputs": [
    {
     "name": "stdout",
     "output_type": "stream",
     "text": [
      "<class 'pandas.core.frame.DataFrame'>\n",
      "RangeIndex: 20183 entries, 0 to 20182\n",
      "Data columns (total 10 columns):\n",
      " #   Column                               Non-Null Count  Dtype  \n",
      "---  ------                               --------------  -----  \n",
      " 0   Sample Number                        20183 non-null  int64  \n",
      " 1   Sample Date                          20183 non-null  object \n",
      " 2   Sample Time                          20183 non-null  object \n",
      " 3   Sample Site                          20183 non-null  object \n",
      " 4   Sample class                         20183 non-null  object \n",
      " 5   Residual Free Chlorine (mg/L)        20183 non-null  float64\n",
      " 6   Turbidity (NTU)                      20183 non-null  object \n",
      " 7   Fluoride (mg/L)                      20183 non-null  object \n",
      " 8   Coliform (Quanti-Tray) (MPN /100mL)  20176 non-null  object \n",
      " 9   E.coli(Quanti-Tray) (MPN/100mL)      20176 non-null  object \n",
      "dtypes: float64(1), int64(1), object(8)\n",
      "memory usage: 1.5+ MB\n"
     ]
    }
   ],
   "source": [
    "fluoridewaterqualdf.info()"
   ]
  },
  {
   "cell_type": "code",
   "execution_count": 24,
   "id": "fae37ff5-e241-4f40-984d-3fa0704d5a08",
   "metadata": {},
   "outputs": [
    {
     "data": {
      "text/plain": [
       "0        <0.30\n",
       "1        <0.30\n",
       "2        <0.30\n",
       "3        <0.30\n",
       "4         <0.3\n",
       "         ...  \n",
       "20178     0.04\n",
       "20179     0.03\n",
       "20180     0.03\n",
       "20181     0.03\n",
       "20182     0.03\n",
       "Name: Fluoride (mg/L), Length: 20183, dtype: object"
      ]
     },
     "execution_count": 24,
     "metadata": {},
     "output_type": "execute_result"
    }
   ],
   "source": [
    "fluoridewaterqualdf[\"Fluoride (mg/L)\"]"
   ]
  },
  {
   "cell_type": "code",
   "execution_count": 26,
   "id": "d9b10cb0-5352-4f8e-86bd-93faad30ca63",
   "metadata": {},
   "outputs": [],
   "source": [
    "Chlorinedf = pd.read_csv(\"FluorideData.csv\")"
   ]
  },
  {
   "cell_type": "code",
   "execution_count": 28,
   "id": "4193dd99-76f9-430b-8a23-3167128eb3a3",
   "metadata": {},
   "outputs": [
    {
     "name": "stdout",
     "output_type": "stream",
     "text": [
      "<class 'pandas.core.frame.DataFrame'>\n",
      "RangeIndex: 20183 entries, 0 to 20182\n",
      "Data columns (total 2 columns):\n",
      " #   Column                         Non-Null Count  Dtype  \n",
      "---  ------                         --------------  -----  \n",
      " 0   Residual Free Chlorine (mg/L)  20183 non-null  float64\n",
      " 1   Sample Date                    20183 non-null  object \n",
      "dtypes: float64(1), object(1)\n",
      "memory usage: 315.5+ KB\n"
     ]
    }
   ],
   "source": [
    "Chlorinedf.info()"
   ]
  },
  {
   "cell_type": "code",
   "execution_count": 36,
   "id": "9a640759-f82a-4ddc-bc8b-3ce2f76a9348",
   "metadata": {},
   "outputs": [],
   "source": [
    "chlorinevalues = Chlorinedf[\"Residual Free Chlorine (mg/L)\"]"
   ]
  },
  {
   "cell_type": "code",
   "execution_count": null,
   "id": "f82a3881-e053-43f3-9fa7-2b535e2ad654",
   "metadata": {},
   "outputs": [],
   "source": [
    "chlorinevalues"
   ]
  }
 ],
 "metadata": {
  "kernelspec": {
   "display_name": "Python [conda env:base] *",
   "language": "python",
   "name": "conda-base-py"
  },
  "language_info": {
   "codemirror_mode": {
    "name": "ipython",
    "version": 3
   },
   "file_extension": ".py",
   "mimetype": "text/x-python",
   "name": "python",
   "nbconvert_exporter": "python",
   "pygments_lexer": "ipython3",
   "version": "3.12.7"
  }
 },
 "nbformat": 4,
 "nbformat_minor": 5
}
